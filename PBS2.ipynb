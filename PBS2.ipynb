{
  "nbformat": 4,
  "nbformat_minor": 0,
  "metadata": {
    "colab": {
      "provenance": [],
      "include_colab_link": true
    },
    "kernelspec": {
      "name": "python3",
      "display_name": "Python 3"
    },
    "language_info": {
      "name": "python"
    }
  },
  "cells": [
    {
      "cell_type": "markdown",
      "metadata": {
        "id": "view-in-github",
        "colab_type": "text"
      },
      "source": [
        "<a href=\"https://colab.research.google.com/github/gusmaomarcos/EngQuimica/blob/main/PBS2.ipynb\" target=\"_parent\"><img src=\"https://colab.research.google.com/assets/colab-badge.svg\" alt=\"Open In Colab\"/></a>"
      ]
    },
    {
      "cell_type": "markdown",
      "metadata": {
        "id": "DhXgg_YIYP3u"
      },
      "source": [
        "Imports"
      ]
    },
    {
      "cell_type": "code",
      "metadata": {
        "id": "J1U02PaRs8QZ"
      },
      "source": [
        "import pandas as pd\n",
        "import numpy as np\n",
        "import matplotlib.pyplot as plt\n",
        "import seaborn as sns"
      ],
      "execution_count": null,
      "outputs": []
    },
    {
      "cell_type": "markdown",
      "metadata": {
        "id": "DSxs8HGHV6YV"
      },
      "source": [
        "## **Patentes**"
      ]
    },
    {
      "cell_type": "code",
      "metadata": {
        "id": "zi44UWN5tTXr"
      },
      "source": [
        "df = pd.read_excel('graficos_BDO_renovada.xlsx', sheet_name='patentes_sim', index_col=None)"
      ],
      "execution_count": null,
      "outputs": []
    },
    {
      "cell_type": "code",
      "metadata": {
        "colab": {
          "base_uri": "https://localhost:8080/",
          "height": 642
        },
        "id": "qLoHpHuEu2cX",
        "outputId": "fb901214-3fb8-4d16-f571-eb8c48a6cd7c"
      },
      "source": [
        "df.head()"
      ],
      "execution_count": null,
      "outputs": [
        {
          "output_type": "execute_result",
          "data": {
            "text/html": [
              "<div>\n",
              "<style scoped>\n",
              "    .dataframe tbody tr th:only-of-type {\n",
              "        vertical-align: middle;\n",
              "    }\n",
              "\n",
              "    .dataframe tbody tr th {\n",
              "        vertical-align: top;\n",
              "    }\n",
              "\n",
              "    .dataframe thead th {\n",
              "        text-align: right;\n",
              "    }\n",
              "</style>\n",
              "<table border=\"1\" class=\"dataframe\">\n",
              "  <thead>\n",
              "    <tr style=\"text-align: right;\">\n",
              "      <th></th>\n",
              "      <th>Patent Number</th>\n",
              "      <th>Patent Title/INPI Reaction</th>\n",
              "      <th>Authors/Inventors</th>\n",
              "      <th>Empresa</th>\n",
              "      <th>Ano</th>\n",
              "      <th>Aplicacoes</th>\n",
              "      <th>Status (Desc.)</th>\n",
              "      <th>Status (A/I)</th>\n",
              "      <th>Solvente</th>\n",
              "      <th>Tipo de Catálise</th>\n",
              "      <th>Catalisador</th>\n",
              "      <th>Tipo de Catalisador</th>\n",
              "      <th>Tipo de Reator</th>\n",
              "      <th>Volume do Reator</th>\n",
              "      <th>Temperatura</th>\n",
              "      <th>Temperatura Min (C)</th>\n",
              "      <th>Temperatura Med (C)</th>\n",
              "      <th>Temperatura Max (C)</th>\n",
              "      <th>Pressão</th>\n",
              "      <th>Pressão Min (bar)</th>\n",
              "      <th>Presso Med (bar)</th>\n",
              "      <th>Pressão Max (bar)</th>\n",
              "      <th>Rendimento</th>\n",
              "      <th>Rendimento (%)</th>\n",
              "      <th>Seletividade</th>\n",
              "      <th>Seletividade (%)</th>\n",
              "      <th>Regime (Bat./Cont.)</th>\n",
              "      <th>Regime</th>\n",
              "      <th>Tempo de Batelada/Residência</th>\n",
              "      <th>Quantidade SA</th>\n",
              "      <th>MP</th>\n",
              "      <th>Novo MP</th>\n",
              "      <th>acido/ester</th>\n",
              "      <th>Fonte SA (Bio/Petro)</th>\n",
              "      <th>Empresa (Simplificado)</th>\n",
              "      <th>País de Aplicação</th>\n",
              "      <th>Observações/Comentários</th>\n",
              "      <th>Exemplo</th>\n",
              "    </tr>\n",
              "  </thead>\n",
              "  <tbody>\n",
              "    <tr>\n",
              "      <th>0</th>\n",
              "      <td>JP2021030220-A</td>\n",
              "      <td>Catalyst used for producing 1,4-butanediol fro...</td>\n",
              "      <td>LE DINH S;  NISHIMURA S</td>\n",
              "      <td>UNIV HOKURIKU (UYUK-C)</td>\n",
              "      <td>2021</td>\n",
              "      <td>JP2021030220-A    JP115838    03 Jul 2020</td>\n",
              "      <td>Pending</td>\n",
              "      <td>Inactive</td>\n",
              "      <td>1,4-Dioxane</td>\n",
              "      <td>NaN</td>\n",
              "      <td>Cu-Pd/hydroxyapatite and/or silicon dioxide</td>\n",
              "      <td>Cu-Pd</td>\n",
              "      <td>NaN</td>\n",
              "      <td>NaN</td>\n",
              "      <td>200C</td>\n",
              "      <td>NaN</td>\n",
              "      <td>200.0</td>\n",
              "      <td>NaN</td>\n",
              "      <td>50bar</td>\n",
              "      <td>NaN</td>\n",
              "      <td>50.0</td>\n",
              "      <td>NaN</td>\n",
              "      <td>0.86</td>\n",
              "      <td>0.86</td>\n",
              "      <td>NaN</td>\n",
              "      <td>NaN</td>\n",
              "      <td>Batelada</td>\n",
              "      <td>Batelada</td>\n",
              "      <td>96h</td>\n",
              "      <td>0,1g</td>\n",
              "      <td>SA</td>\n",
              "      <td>SA</td>\n",
              "      <td>Ácido</td>\n",
              "      <td>Petro</td>\n",
              "      <td>JAPAN ADVANCED INSTITUTE OF SCIENCE &amp; TECH HOK...</td>\n",
              "      <td>Japan</td>\n",
              "      <td>NaN</td>\n",
              "      <td>NaN</td>\n",
              "    </tr>\n",
              "    <tr>\n",
              "      <th>1</th>\n",
              "      <td>CN110862302-A</td>\n",
              "      <td>Preparing 1,4-butanediol by combining slurry b...</td>\n",
              "      <td>DU W;  WANG J;  YANG A;  BAI J;  LIU J;  ZHU Q...</td>\n",
              "      <td>SINOPEC YANGZI PETROCHEMICAL CO LTD (SNPC-C); ...</td>\n",
              "      <td>2020</td>\n",
              "      <td>CN110862302-A    CN10981391    27 Aug 2018</td>\n",
              "      <td>Pending</td>\n",
              "      <td>Inactive</td>\n",
              "      <td>Water</td>\n",
              "      <td>Fase Líquida</td>\n",
              "      <td>Pd/C</td>\n",
              "      <td>Pd</td>\n",
              "      <td>Slurry Bed + Fixed Bed</td>\n",
              "      <td>NaN</td>\n",
              "      <td>170-280C; 160-270C</td>\n",
              "      <td>165.0</td>\n",
              "      <td>220.0</td>\n",
              "      <td>275.0</td>\n",
              "      <td>40-80bar; 30-60bar</td>\n",
              "      <td>NaN</td>\n",
              "      <td>NaN</td>\n",
              "      <td>NaN</td>\n",
              "      <td>NaN</td>\n",
              "      <td>NaN</td>\n",
              "      <td>0.96</td>\n",
              "      <td>0.96</td>\n",
              "      <td>Batelada</td>\n",
              "      <td>Batelada</td>\n",
              "      <td>0.7-2h; 0.5-5h^-1</td>\n",
              "      <td>20+-5%</td>\n",
              "      <td>SA</td>\n",
              "      <td>SA</td>\n",
              "      <td>Ácido</td>\n",
              "      <td>Petro</td>\n",
              "      <td>SINOPEC YANGZI PETROCHEMICAL CO LTD (SNPC-C); ...</td>\n",
              "      <td>China</td>\n",
              "      <td>Propõe usar dois tipos de reatores e ainda usa...</td>\n",
              "      <td>Using a slurry bed reactor and a fixed bed rea...</td>\n",
              "    </tr>\n",
              "    <tr>\n",
              "      <th>2</th>\n",
              "      <td>WO2020008617-A1;  JP2020528646-X;  US202120579...</td>\n",
              "      <td>Producing hydrogenation catalyst for hydrogena...</td>\n",
              "      <td>NAKAMURA N;  TOMISHIGE K;  NAKAGAWA Y;  TAMURA M</td>\n",
              "      <td>TOYO TIRE CORP (TOYF-C);  TOYO TIRE CORP (TOYF...</td>\n",
              "      <td>2020</td>\n",
              "      <td>WO2020008617-A1    WOJP025669    06 Jul 2018; ...</td>\n",
              "      <td>Pending</td>\n",
              "      <td>Inactive</td>\n",
              "      <td>1,4-Dioxane</td>\n",
              "      <td>NaN</td>\n",
              "      <td>MoOx-Pd/SiO2; CoOx-Pd/SiO2</td>\n",
              "      <td>Co-Pd; Mo-Pd</td>\n",
              "      <td>Autoclave</td>\n",
              "      <td>190mL</td>\n",
              "      <td>200C</td>\n",
              "      <td>NaN</td>\n",
              "      <td>200.0</td>\n",
              "      <td>NaN</td>\n",
              "      <td>NaN</td>\n",
              "      <td>NaN</td>\n",
              "      <td>NaN</td>\n",
              "      <td>NaN</td>\n",
              "      <td>NaN</td>\n",
              "      <td>NaN</td>\n",
              "      <td>0.86</td>\n",
              "      <td>0.86</td>\n",
              "      <td>Batelada</td>\n",
              "      <td>Batelada</td>\n",
              "      <td>72h</td>\n",
              "      <td>1g</td>\n",
              "      <td>SA</td>\n",
              "      <td>SA</td>\n",
              "      <td>Ácido</td>\n",
              "      <td>Petro</td>\n",
              "      <td>TOYO TIRE CORP</td>\n",
              "      <td>Japan</td>\n",
              "      <td>Patente de catalisador. Muito parecido com os ...</td>\n",
              "      <td>NaN</td>\n",
              "    </tr>\n",
              "    <tr>\n",
              "      <th>3</th>\n",
              "      <td>CN109453763-A;  CN109453763-B</td>\n",
              "      <td>Catalyst useful for hydrogenation of aqueous p...</td>\n",
              "      <td>WANG J;  DU W;  YANG A;  BAI J;  LIU J;  ZHU Q...</td>\n",
              "      <td>SINOPEC YANGZI PETROCHEMICAL CO LTD (SNPC-C); ...</td>\n",
              "      <td>2019</td>\n",
              "      <td>CN109453763-A    CN10797455    06 Sep 2017;   ...</td>\n",
              "      <td>NaN</td>\n",
              "      <td>Active (CN)</td>\n",
              "      <td>NaN</td>\n",
              "      <td>Fase Líquida</td>\n",
              "      <td>Ru/SiO2 or TiO2</td>\n",
              "      <td>Ru</td>\n",
              "      <td>Autoclave</td>\n",
              "      <td>NaN</td>\n",
              "      <td>200C</td>\n",
              "      <td>NaN</td>\n",
              "      <td>200.0</td>\n",
              "      <td>NaN</td>\n",
              "      <td>50bar</td>\n",
              "      <td>NaN</td>\n",
              "      <td>50.0</td>\n",
              "      <td>NaN</td>\n",
              "      <td>NaN</td>\n",
              "      <td>NaN</td>\n",
              "      <td>NaN</td>\n",
              "      <td>NaN</td>\n",
              "      <td>NaN</td>\n",
              "      <td>NaN</td>\n",
              "      <td>NaN</td>\n",
              "      <td>0.2</td>\n",
              "      <td>SA</td>\n",
              "      <td>SA</td>\n",
              "      <td>Ácido</td>\n",
              "      <td>Petro</td>\n",
              "      <td>SINOPEC YANGZI PETROCHEMICAL CO LTD (SNPC-C); ...</td>\n",
              "      <td>China</td>\n",
              "      <td>Quase nada em inglês...</td>\n",
              "      <td>NaN</td>\n",
              "    </tr>\n",
              "    <tr>\n",
              "      <th>4</th>\n",
              "      <td>WO2017167772-A1;  CN108779049-A;  KR2018132650...</td>\n",
              "      <td>Continuous hydrogenation of carboxylic acid us...</td>\n",
              "      <td>PINKOS R;  RITTINGER S;  NUEBLING C;  ABILLARD O</td>\n",
              "      <td>BASF SE (BADI-C);  BASF SE (BADI-C);  BASF SE ...</td>\n",
              "      <td>2017</td>\n",
              "      <td>WO2017167772-A1    WOEP057350    29 Mar 2017; ...</td>\n",
              "      <td>NaN</td>\n",
              "      <td>Active (US, EP)</td>\n",
              "      <td>Water + Alcohol</td>\n",
              "      <td>Fase Líquida</td>\n",
              "      <td>Pd-Re</td>\n",
              "      <td>Pd-Re</td>\n",
              "      <td>Fixed Bed</td>\n",
              "      <td>NaN</td>\n",
              "      <td>150-240C</td>\n",
              "      <td>150.0</td>\n",
              "      <td>195.0</td>\n",
              "      <td>240.0</td>\n",
              "      <td>20-28bar</td>\n",
              "      <td>20.0</td>\n",
              "      <td>NaN</td>\n",
              "      <td>28.0</td>\n",
              "      <td>NaN</td>\n",
              "      <td>NaN</td>\n",
              "      <td>NaN</td>\n",
              "      <td>NaN</td>\n",
              "      <td>NaN</td>\n",
              "      <td>NaN</td>\n",
              "      <td>1-10h^-1</td>\n",
              "      <td>NaN</td>\n",
              "      <td>SA</td>\n",
              "      <td>SA</td>\n",
              "      <td>Ácido</td>\n",
              "      <td>NaN</td>\n",
              "      <td>BASF</td>\n",
              "      <td>Germany</td>\n",
              "      <td>Processo envolve uma préhidrogenação pra depoi...</td>\n",
              "      <td>NaN</td>\n",
              "    </tr>\n",
              "  </tbody>\n",
              "</table>\n",
              "</div>"
            ],
            "text/plain": [
              "                                       Patent Number  ...                                            Exemplo\n",
              "0                                     JP2021030220-A  ...                                                NaN\n",
              "1                                      CN110862302-A  ...  Using a slurry bed reactor and a fixed bed rea...\n",
              "2  WO2020008617-A1;  JP2020528646-X;  US202120579...  ...                                                NaN\n",
              "3                      CN109453763-A;  CN109453763-B  ...                                                NaN\n",
              "4  WO2017167772-A1;  CN108779049-A;  KR2018132650...  ...                                                NaN\n",
              "\n",
              "[5 rows x 38 columns]"
            ]
          },
          "metadata": {},
          "execution_count": 3
        }
      ]
    },
    {
      "cell_type": "markdown",
      "metadata": {
        "id": "cZRaLfrmYKte"
      },
      "source": [
        "Patentes - Resumo"
      ]
    },
    {
      "cell_type": "code",
      "metadata": {
        "colab": {
          "base_uri": "https://localhost:8080/",
          "height": 318
        },
        "id": "mx25Mp10wdSb",
        "outputId": "08e62884-f48f-495f-e39f-dcbe9d6baa22"
      },
      "source": [
        "df.describe()"
      ],
      "execution_count": null,
      "outputs": [
        {
          "output_type": "execute_result",
          "data": {
            "text/html": [
              "<div>\n",
              "<style scoped>\n",
              "    .dataframe tbody tr th:only-of-type {\n",
              "        vertical-align: middle;\n",
              "    }\n",
              "\n",
              "    .dataframe tbody tr th {\n",
              "        vertical-align: top;\n",
              "    }\n",
              "\n",
              "    .dataframe thead th {\n",
              "        text-align: right;\n",
              "    }\n",
              "</style>\n",
              "<table border=\"1\" class=\"dataframe\">\n",
              "  <thead>\n",
              "    <tr style=\"text-align: right;\">\n",
              "      <th></th>\n",
              "      <th>Ano</th>\n",
              "      <th>Temperatura Min (C)</th>\n",
              "      <th>Temperatura Med (C)</th>\n",
              "      <th>Temperatura Max (C)</th>\n",
              "      <th>Pressão Min (bar)</th>\n",
              "      <th>Presso Med (bar)</th>\n",
              "      <th>Pressão Max (bar)</th>\n",
              "      <th>Seletividade (%)</th>\n",
              "    </tr>\n",
              "  </thead>\n",
              "  <tbody>\n",
              "    <tr>\n",
              "      <th>count</th>\n",
              "      <td>61.000000</td>\n",
              "      <td>33.000000</td>\n",
              "      <td>54.000000</td>\n",
              "      <td>33.000000</td>\n",
              "      <td>29.000000</td>\n",
              "      <td>21.000000</td>\n",
              "      <td>29.000000</td>\n",
              "      <td>11.000000</td>\n",
              "    </tr>\n",
              "    <tr>\n",
              "      <th>mean</th>\n",
              "      <td>2002.278689</td>\n",
              "      <td>139.090909</td>\n",
              "      <td>190.861111</td>\n",
              "      <td>241.060606</td>\n",
              "      <td>29.925862</td>\n",
              "      <td>114.190476</td>\n",
              "      <td>125.189655</td>\n",
              "      <td>0.768273</td>\n",
              "    </tr>\n",
              "    <tr>\n",
              "      <th>std</th>\n",
              "      <td>10.799894</td>\n",
              "      <td>52.714659</td>\n",
              "      <td>34.517485</td>\n",
              "      <td>48.969978</td>\n",
              "      <td>25.656344</td>\n",
              "      <td>68.307847</td>\n",
              "      <td>101.579951</td>\n",
              "      <td>0.279835</td>\n",
              "    </tr>\n",
              "    <tr>\n",
              "      <th>min</th>\n",
              "      <td>1981.000000</td>\n",
              "      <td>40.000000</td>\n",
              "      <td>87.500000</td>\n",
              "      <td>125.000000</td>\n",
              "      <td>1.000000</td>\n",
              "      <td>20.000000</td>\n",
              "      <td>20.000000</td>\n",
              "      <td>0.101000</td>\n",
              "    </tr>\n",
              "    <tr>\n",
              "      <th>25%</th>\n",
              "      <td>1995.000000</td>\n",
              "      <td>100.000000</td>\n",
              "      <td>176.250000</td>\n",
              "      <td>200.000000</td>\n",
              "      <td>9.800000</td>\n",
              "      <td>50.000000</td>\n",
              "      <td>68.950000</td>\n",
              "      <td>0.715000</td>\n",
              "    </tr>\n",
              "    <tr>\n",
              "      <th>50%</th>\n",
              "      <td>2001.000000</td>\n",
              "      <td>160.000000</td>\n",
              "      <td>195.000000</td>\n",
              "      <td>240.000000</td>\n",
              "      <td>25.000000</td>\n",
              "      <td>110.000000</td>\n",
              "      <td>98.000000</td>\n",
              "      <td>0.860000</td>\n",
              "    </tr>\n",
              "    <tr>\n",
              "      <th>75%</th>\n",
              "      <td>2013.000000</td>\n",
              "      <td>180.000000</td>\n",
              "      <td>218.750000</td>\n",
              "      <td>275.000000</td>\n",
              "      <td>40.000000</td>\n",
              "      <td>170.000000</td>\n",
              "      <td>150.000000</td>\n",
              "      <td>0.955000</td>\n",
              "    </tr>\n",
              "    <tr>\n",
              "      <th>max</th>\n",
              "      <td>2021.000000</td>\n",
              "      <td>200.000000</td>\n",
              "      <td>250.000000</td>\n",
              "      <td>350.000000</td>\n",
              "      <td>101.000000</td>\n",
              "      <td>250.000000</td>\n",
              "      <td>405.000000</td>\n",
              "      <td>0.990000</td>\n",
              "    </tr>\n",
              "  </tbody>\n",
              "</table>\n",
              "</div>"
            ],
            "text/plain": [
              "               Ano  Temperatura Min (C)  ...  Pressão Max (bar)  Seletividade (%)\n",
              "count    61.000000            33.000000  ...          29.000000         11.000000\n",
              "mean   2002.278689           139.090909  ...         125.189655          0.768273\n",
              "std      10.799894            52.714659  ...         101.579951          0.279835\n",
              "min    1981.000000            40.000000  ...          20.000000          0.101000\n",
              "25%    1995.000000           100.000000  ...          68.950000          0.715000\n",
              "50%    2001.000000           160.000000  ...          98.000000          0.860000\n",
              "75%    2013.000000           180.000000  ...         150.000000          0.955000\n",
              "max    2021.000000           200.000000  ...         405.000000          0.990000\n",
              "\n",
              "[8 rows x 8 columns]"
            ]
          },
          "metadata": {},
          "execution_count": 4
        }
      ]
    },
    {
      "cell_type": "markdown",
      "metadata": {
        "id": "p8vUrYOIZIY4"
      },
      "source": [
        "**Médias gerais das faixas de P e T nas patentes**"
      ]
    },
    {
      "cell_type": "markdown",
      "metadata": {
        "id": "o1RmvqxvboEH"
      },
      "source": [
        "Pressão(bar): 29 - 151"
      ]
    },
    {
      "cell_type": "markdown",
      "metadata": {
        "id": "XMymxaAdbnxl"
      },
      "source": [
        "Temperatura(C): 139 - 241"
      ]
    },
    {
      "cell_type": "markdown",
      "metadata": {
        "id": "wi3wEmthIGDX"
      },
      "source": [
        "**Contagem de Catalisadores - Patentes**"
      ]
    },
    {
      "cell_type": "code",
      "metadata": {
        "id": "4eU4iWW6ep57"
      },
      "source": [
        "df['Tipo de Catalisador'].value_counts().to_csv('patentes_tipodecatalisador.csv')"
      ],
      "execution_count": null,
      "outputs": []
    },
    {
      "cell_type": "code",
      "metadata": {
        "colab": {
          "base_uri": "https://localhost:8080/",
          "height": 616
        },
        "id": "cNuKj2fQvzoo",
        "outputId": "d7af7a5f-92e2-493b-ee9a-b7fd5d08b575"
      },
      "source": [
        "plt.figure(figsize = (15,8))\n",
        "ax = sns.countplot(x = 'Tipo de Catalisador',data = df, order = df['Tipo de Catalisador'].value_counts().index, palette='flare')\n",
        "plt.xticks(rotation=90)"
      ],
      "execution_count": null,
      "outputs": [
        {
          "output_type": "execute_result",
          "data": {
            "text/plain": [
              "(array([ 0,  1,  2,  3,  4,  5,  6,  7,  8,  9, 10, 11, 12, 13, 14, 15, 16,\n",
              "        17, 18, 19, 20, 21]), <a list of 22 Text major ticklabel objects>)"
            ]
          },
          "metadata": {},
          "execution_count": 6
        },
        {
          "output_type": "display_data",
          "data": {
            "image/png": "[encoded data removed]",
            "text/plain": [
              "<Figure size 1080x576 with 1 Axes>"
            ]
          },
          "metadata": {
            "needs_background": "light"
          }
        }
      ]
    },
    {
      "cell_type": "markdown",
      "metadata": {
        "id": "M-YJ0eGvISay"
      },
      "source": [
        "**Contagem de Empresas - Patentes**"
      ]
    },
    {
      "cell_type": "code",
      "metadata": {
        "id": "wk_mHDp34tbW"
      },
      "source": [
        "df['Empresa (Simplificado)'].value_counts().to_csv('patentes_porempresas.csv')"
      ],
      "execution_count": null,
      "outputs": []
    },
    {
      "cell_type": "code",
      "metadata": {
        "colab": {
          "base_uri": "https://localhost:8080/",
          "height": 1000
        },
        "id": "17jeP2iw4ZhP",
        "outputId": "aa109763-911e-40bc-b1ad-fc39dd48f8e4"
      },
      "source": [
        "plt.figure(figsize = (15,8))\n",
        "ax = sns.countplot(x = 'Empresa (Simplificado)',data = df, order = df['Empresa (Simplificado)'].value_counts().index)\n",
        "plt.xticks(rotation=90)"
      ],
      "execution_count": null,
      "outputs": [
        {
          "output_type": "execute_result",
          "data": {
            "text/plain": [
              "(array([ 0,  1,  2,  3,  4,  5,  6,  7,  8,  9, 10, 11, 12, 13, 14, 15, 16,\n",
              "        17, 18, 19, 20, 21, 22, 23, 24]),\n",
              " <a list of 25 Text major ticklabel objects>)"
            ]
          },
          "metadata": {},
          "execution_count": 8
        },
        {
          "output_type": "display_data",
          "data": {
            "image/png": "[encoded data removed]",
            "text/plain": [
              "<Figure size 1080x576 with 1 Axes>"
            ]
          },
          "metadata": {
            "needs_background": "light"
          }
        }
      ]
    },
    {
      "cell_type": "markdown",
      "metadata": {
        "id": "kOVCEdmwIf1P"
      },
      "source": [
        "**Contagem de Aplicações por País - Patentes**"
      ]
    },
    {
      "cell_type": "code",
      "metadata": {
        "colab": {
          "base_uri": "https://localhost:8080/"
        },
        "id": "mvC90X2z-UYJ",
        "outputId": "587775cb-880f-4f2e-8b33-161962b6d1e7"
      },
      "source": [
        "df['País de Aplicação'].value_counts()"
      ],
      "execution_count": null,
      "outputs": [
        {
          "output_type": "execute_result",
          "data": {
            "text/plain": [
              "US         14\n",
              "Japan      11\n",
              "China       7\n",
              "GB          5\n",
              "Germany     4\n",
              "CN          4\n",
              "DE          4\n",
              "Italy       2\n",
              "JP          2\n",
              "EP          1\n",
              "UK          1\n",
              "Name: País de Aplicação, dtype: int64"
            ]
          },
          "metadata": {},
          "execution_count": 9
        }
      ]
    },
    {
      "cell_type": "code",
      "metadata": {
        "id": "K3sv9InrrfnP",
        "colab": {
          "base_uri": "https://localhost:8080/",
          "height": 568
        },
        "outputId": "8d35aa64-0604-4ad7-84c5-bb177095f1bf"
      },
      "source": [
        "plt.figure(figsize = (15,8))\n",
        "ax = sns.countplot(x = 'País de Aplicação',data = df, order = df['País de Aplicação'].value_counts().index)\n",
        "plt.xticks(rotation=90)"
      ],
      "execution_count": null,
      "outputs": [
        {
          "output_type": "execute_result",
          "data": {
            "text/plain": [
              "(array([ 0,  1,  2,  3,  4,  5,  6,  7,  8,  9, 10]),\n",
              " <a list of 11 Text major ticklabel objects>)"
            ]
          },
          "metadata": {},
          "execution_count": 10
        },
        {
          "output_type": "display_data",
          "data": {
            "image/png": "[encoded data removed]",
            "text/plain": [
              "<Figure size 1080x576 with 1 Axes>"
            ]
          },
          "metadata": {
            "needs_background": "light"
          }
        }
      ]
    },
    {
      "cell_type": "markdown",
      "metadata": {
        "id": "gbPl3x4kIrtA"
      },
      "source": [
        "**Contagem de Aplicações por Ano - Patentes**"
      ]
    },
    {
      "cell_type": "code",
      "metadata": {
        "colab": {
          "base_uri": "https://localhost:8080/"
        },
        "id": "9qOaVyS1U4lY",
        "outputId": "0441effc-700e-4e26-fefe-d53b2549c56c"
      },
      "source": [
        "df['Ano'].value_counts()"
      ],
      "execution_count": null,
      "outputs": [
        {
          "output_type": "execute_result",
          "data": {
            "text/plain": [
              "2001    9\n",
              "2013    5\n",
              "1999    4\n",
              "1991    3\n",
              "1998    3\n",
              "2018    2\n",
              "2016    2\n",
              "1990    2\n",
              "2019    2\n",
              "2020    2\n",
              "1996    2\n",
              "1986    2\n",
              "2002    2\n",
              "1988    1\n",
              "1989    1\n",
              "1992    1\n",
              "1993    1\n",
              "1994    1\n",
              "1995    1\n",
              "1997    1\n",
              "1982    1\n",
              "2000    1\n",
              "1981    1\n",
              "2004    1\n",
              "2005    1\n",
              "2006    1\n",
              "2009    1\n",
              "2010    1\n",
              "2011    1\n",
              "2014    1\n",
              "2015    1\n",
              "2017    1\n",
              "2021    1\n",
              "1985    1\n",
              "Name: Ano, dtype: int64"
            ]
          },
          "metadata": {},
          "execution_count": 11
        }
      ]
    },
    {
      "cell_type": "code",
      "metadata": {
        "id": "jyciTqsmr9j9",
        "colab": {
          "base_uri": "https://localhost:8080/",
          "height": 564
        },
        "outputId": "55652a86-7518-4bb9-dac7-b0531a0ea852"
      },
      "source": [
        "plt.figure(figsize = (15,8))\n",
        "ax = sns.countplot(x = 'Ano',data = df, order = df['Ano'].value_counts(sort=True).index, palette='Reds')\n",
        "plt.xticks(rotation=90)"
      ],
      "execution_count": null,
      "outputs": [
        {
          "output_type": "execute_result",
          "data": {
            "text/plain": [
              "(array([ 0,  1,  2,  3,  4,  5,  6,  7,  8,  9, 10, 11, 12, 13, 14, 15, 16,\n",
              "        17, 18, 19, 20, 21, 22, 23, 24, 25, 26, 27, 28, 29, 30, 31, 32, 33]),\n",
              " <a list of 34 Text major ticklabel objects>)"
            ]
          },
          "metadata": {},
          "execution_count": 12
        },
        {
          "output_type": "display_data",
          "data": {
            "image/png": "[encoded data removed]",
            "text/plain": [
              "<Figure size 1080x576 with 1 Axes>"
            ]
          },
          "metadata": {
            "needs_background": "light"
          }
        }
      ]
    },
    {
      "cell_type": "markdown",
      "metadata": {
        "id": "cI2Na_DPNR6-"
      },
      "source": [
        "**Contagem de MP - Patentes**"
      ]
    },
    {
      "cell_type": "code",
      "metadata": {
        "colab": {
          "base_uri": "https://localhost:8080/"
        },
        "id": "EMpTB0HJBoPb",
        "outputId": "b5c3baa9-b7cf-423e-e856-343930d20ecc"
      },
      "source": [
        "df['Novo MP'].value_counts()"
      ],
      "execution_count": null,
      "outputs": [
        {
          "output_type": "execute_result",
          "data": {
            "text/plain": [
              "SA                  13\n",
              "Acido Maleico        6\n",
              "Anidrido Maleico     4\n",
              "SA/Fermentation      3\n",
              "MA                   1\n",
              "SA Ester             1\n",
              "DAM                  1\n",
              "Dimethyl Maleate     1\n",
              "Dialkyl Maleate      1\n",
              "Name: Novo MP, dtype: int64"
            ]
          },
          "metadata": {},
          "execution_count": 13
        }
      ]
    },
    {
      "cell_type": "code",
      "metadata": {
        "id": "XPMex4aqMhJu",
        "colab": {
          "base_uri": "https://localhost:8080/",
          "height": 725
        },
        "outputId": "2108867a-e4b2-418b-b405-27d688a61ee3"
      },
      "source": [
        "plt.figure(figsize = (15,8))\n",
        "ax = sns.countplot(x = 'MP',data = df, order = df['MP'].value_counts().index, palette='autumn')\n",
        "plt.xticks(rotation=90)"
      ],
      "execution_count": null,
      "outputs": [
        {
          "output_type": "execute_result",
          "data": {
            "text/plain": [
              "(array([ 0,  1,  2,  3,  4,  5,  6,  7,  8,  9, 10, 11, 12, 13, 14, 15, 16,\n",
              "        17, 18, 19]), <a list of 20 Text major ticklabel objects>)"
            ]
          },
          "metadata": {},
          "execution_count": 14
        },
        {
          "output_type": "display_data",
          "data": {
            "image/png": "[encoded data removed]",
            "text/plain": [
              "<Figure size 1080x576 with 1 Axes>"
            ]
          },
          "metadata": {
            "needs_background": "light"
          }
        }
      ]
    },
    {
      "cell_type": "code",
      "source": [
        "df['acido/ester'].value_counts()"
      ],
      "metadata": {
        "colab": {
          "base_uri": "https://localhost:8080/"
        },
        "id": "PszgYPTjQ5DJ",
        "outputId": "299f6756-5def-409d-91e5-0b24ea52b55b"
      },
      "execution_count": null,
      "outputs": [
        {
          "output_type": "execute_result",
          "data": {
            "text/plain": [
              "Ácido       29\n",
              "Éster       17\n",
              "Anidrido     7\n",
              "Name: acido/ester, dtype: int64"
            ]
          },
          "metadata": {},
          "execution_count": 15
        }
      ]
    },
    {
      "cell_type": "code",
      "source": [
        "plt.figure(figsize = (15,8))\n",
        "ax = sns.countplot(x = 'acido/ester',data = df, order = df['acido/ester'].value_counts().index, palette='autumn')\n",
        "plt.xticks(rotation=90)"
      ],
      "metadata": {
        "colab": {
          "base_uri": "https://localhost:8080/",
          "height": 546
        },
        "id": "NJbLRdGuQ6B3",
        "outputId": "892d6769-0772-4eed-84c2-6b8e03b0b503"
      },
      "execution_count": null,
      "outputs": [
        {
          "output_type": "execute_result",
          "data": {
            "text/plain": [
              "(array([0, 1, 2]), <a list of 3 Text major ticklabel objects>)"
            ]
          },
          "metadata": {},
          "execution_count": 16
        },
        {
          "output_type": "display_data",
          "data": {
            "image/png": "[encoded data removed]",
            "text/plain": [
              "<Figure size 1080x576 with 1 Axes>"
            ]
          },
          "metadata": {
            "needs_background": "light"
          }
        }
      ]
    },
    {
      "cell_type": "markdown",
      "metadata": {
        "id": "zyvvFW1WYiao"
      },
      "source": [
        "**Análise de P e T - Excel**"
      ]
    },
    {
      "cell_type": "code",
      "metadata": {
        "id": "s7eBwk_E9z26"
      },
      "source": [
        "por_catalisador = df.groupby('Tipo de Catalisador')\n",
        "por_catalisador_medias = por_catalisador.mean()\n",
        "#por_catalisador_medias.to_excel('por_catalisador_medias_patentes.xlsx')"
      ],
      "execution_count": null,
      "outputs": []
    },
    {
      "cell_type": "code",
      "metadata": {
        "id": "Sg7G61l3CkFn"
      },
      "source": [
        "por_empresa = df.groupby('Empresa (Simplificado)')\n",
        "por_empresa_medias = por_empresa.mean()\n",
        "#por_empresa_medias.to_excel('por_empresas_medias_patentes.xlsx')"
      ],
      "execution_count": null,
      "outputs": []
    },
    {
      "cell_type": "code",
      "metadata": {
        "id": "J-qR1XYVf0gN"
      },
      "source": [
        "por_regime = df.groupby('Regime')\n",
        "por_regime_medias = por_regime.mean()\n",
        "#por_regime_medias.to_excel('por_regime_medias_patentes.xlsx')"
      ],
      "execution_count": null,
      "outputs": []
    },
    {
      "cell_type": "code",
      "metadata": {
        "id": "4MpO98ko3oE7"
      },
      "source": [
        "por_mp = df.groupby('Novo MP')\n",
        "por_mp_medias = por_mp.mean()\n",
        "#por_mp_medias.to_excel('por_mp_medias_patentes.xlsx')"
      ],
      "execution_count": null,
      "outputs": []
    },
    {
      "cell_type": "code",
      "source": [
        "acido_ester = df.groupby('acido/ester')\n",
        "por_ae_medias = acido_ester.mean()\n",
        "por_ae_medias.to_excel('acido_ester_medias_patentes_sem_soil.xlsx')"
      ],
      "metadata": {
        "id": "Z3_5FZ2MSKRS"
      },
      "execution_count": null,
      "outputs": []
    },
    {
      "cell_type": "markdown",
      "metadata": {
        "id": "znXValqxswNj"
      },
      "source": [
        "## **Artigos**"
      ]
    },
    {
      "cell_type": "code",
      "metadata": {
        "id": "SWyr6sW2szBC"
      },
      "source": [
        "df_art = pd.read_excel('graficos_BDO_renovada.xlsx', sheet_name='artigos_sim', index_col=None)"
      ],
      "execution_count": null,
      "outputs": []
    },
    {
      "cell_type": "code",
      "metadata": {
        "id": "YSNhlESAtApx",
        "colab": {
          "base_uri": "https://localhost:8080/",
          "height": 678
        },
        "outputId": "8f7de422-deea-4405-cd28-20abb38d8536"
      },
      "source": [
        "df_art.head()"
      ],
      "execution_count": null,
      "outputs": [
        {
          "output_type": "execute_result",
          "data": {
            "text/html": [
              "<div>\n",
              "<style scoped>\n",
              "    .dataframe tbody tr th:only-of-type {\n",
              "        vertical-align: middle;\n",
              "    }\n",
              "\n",
              "    .dataframe tbody tr th {\n",
              "        vertical-align: top;\n",
              "    }\n",
              "\n",
              "    .dataframe thead th {\n",
              "        text-align: right;\n",
              "    }\n",
              "</style>\n",
              "<table border=\"1\" class=\"dataframe\">\n",
              "  <thead>\n",
              "    <tr style=\"text-align: right;\">\n",
              "      <th></th>\n",
              "      <th>Authors</th>\n",
              "      <th>Document Title</th>\n",
              "      <th>Abstract</th>\n",
              "      <th>Publication Year</th>\n",
              "      <th>DOI</th>\n",
              "      <th>Tipo de Catalise</th>\n",
              "      <th>Catalisador</th>\n",
              "      <th>Tipo de Catalisador</th>\n",
              "      <th>Tipo de Reator</th>\n",
              "      <th>Volume do Reator (ml)</th>\n",
              "      <th>Temperatura (C)</th>\n",
              "      <th>Pressao (bar)</th>\n",
              "      <th>Rendimento</th>\n",
              "      <th>Seletividade</th>\n",
              "      <th>Regime</th>\n",
              "      <th>Tempo de Batelada/Residencia</th>\n",
              "      <th>MP</th>\n",
              "      <th>Fonte MP (Bio/Petro)</th>\n",
              "      <th>Empresa (Aplicante)</th>\n",
              "      <th>Pais de Aplicacao</th>\n",
              "      <th>Observações/Comentários</th>\n",
              "      <th>Unnamed: 21</th>\n",
              "    </tr>\n",
              "  </thead>\n",
              "  <tbody>\n",
              "    <tr>\n",
              "      <th>0</th>\n",
              "      <td>De Bari, I; Giuliano, A; Petrone, MT; Stoppiel...</td>\n",
              "      <td>From Cardoon Lignocellulosic Biomass to Bio-1,...</td>\n",
              "      <td>Biorefineries are novel, productive models tha...</td>\n",
              "      <td>2020</td>\n",
              "      <td>10.3390/pr8121585</td>\n",
              "      <td>Fase Líquida</td>\n",
              "      <td>Engineered E. coli</td>\n",
              "      <td>0utro</td>\n",
              "      <td>seed reactor + main bioreactor</td>\n",
              "      <td>NaN</td>\n",
              "      <td>NaN</td>\n",
              "      <td>NaN</td>\n",
              "      <td>0.157</td>\n",
              "      <td>NaN</td>\n",
              "      <td>Batelada</td>\n",
              "      <td>37h</td>\n",
              "      <td>cardoon lignocellulosic biomass</td>\n",
              "      <td>Bio</td>\n",
              "      <td>Novamont S.p.A</td>\n",
              "      <td>Italy</td>\n",
              "      <td>Modelagem/Simulação de uma biorefinaria. Não c...</td>\n",
              "      <td>NaN</td>\n",
              "    </tr>\n",
              "    <tr>\n",
              "      <th>1</th>\n",
              "      <td>Ly, BK; Tapin, B; Epron, F; Pinel, C; Especel,...</td>\n",
              "      <td>In situ preparation of bimetallic ReOx-Pd/TiO2...</td>\n",
              "      <td>TiO2-supported Re-Pd catalysts were evaluated ...</td>\n",
              "      <td>2020</td>\n",
              "      <td>10.1016/j.cattod.2019.03.024</td>\n",
              "      <td>Fase Líquida</td>\n",
              "      <td>ReOx-Pd/TiO2</td>\n",
              "      <td>Pd-Re</td>\n",
              "      <td>Batch Reactor</td>\n",
              "      <td>300.0</td>\n",
              "      <td>160.0</td>\n",
              "      <td>150.0</td>\n",
              "      <td>0.850</td>\n",
              "      <td>0.73</td>\n",
              "      <td>Batelada</td>\n",
              "      <td>48h</td>\n",
              "      <td>SA</td>\n",
              "      <td>Petro</td>\n",
              "      <td>Université Lyon Claude Bernard</td>\n",
              "      <td>France</td>\n",
              "      <td>Compara diferentes preparos do mesmo catalisad...</td>\n",
              "      <td>NaN</td>\n",
              "    </tr>\n",
              "    <tr>\n",
              "      <th>2</th>\n",
              "      <td>Tapin, B; Ly, BK; Canaff, C; Epron, F; Pinel, ...</td>\n",
              "      <td>Characterization by X-ray absorption spectrosc...</td>\n",
              "      <td>Re-Pd catalysts supported on TiO2 (P25 or DT51...</td>\n",
              "      <td>2020</td>\n",
              "      <td>10.1016/j.matchemphys.2020.123225</td>\n",
              "      <td>Fase Líquida</td>\n",
              "      <td>Re-Pd/TiO2</td>\n",
              "      <td>Pd-Re</td>\n",
              "      <td>Batch Reactor</td>\n",
              "      <td>300.0</td>\n",
              "      <td>160.0</td>\n",
              "      <td>150.0</td>\n",
              "      <td>0.850</td>\n",
              "      <td>NaN</td>\n",
              "      <td>Batelada</td>\n",
              "      <td>48h</td>\n",
              "      <td>SA</td>\n",
              "      <td>Petro</td>\n",
              "      <td>Université Lyon Claude Bernard</td>\n",
              "      <td>France</td>\n",
              "      <td>NaN</td>\n",
              "      <td>NaN</td>\n",
              "    </tr>\n",
              "    <tr>\n",
              "      <th>3</th>\n",
              "      <td>Lange, JP; Wadman, SH</td>\n",
              "      <td>Furfural to 1,4-Butanediol/Tetrahydrofuran - A...</td>\n",
              "      <td>The feasibility to convert furan, a direct der...</td>\n",
              "      <td>2020</td>\n",
              "      <td>10.1002/cssc.202001376</td>\n",
              "      <td>Fase Gasosa</td>\n",
              "      <td>RePd/Active Carbon</td>\n",
              "      <td>Pd-Re</td>\n",
              "      <td>Fixed bed</td>\n",
              "      <td>NaN</td>\n",
              "      <td>170.0</td>\n",
              "      <td>50.0</td>\n",
              "      <td>0.210</td>\n",
              "      <td>0.45</td>\n",
              "      <td>Contínuo</td>\n",
              "      <td>3h</td>\n",
              "      <td>Furfural/Furano</td>\n",
              "      <td>Bio</td>\n",
              "      <td>Shell</td>\n",
              "      <td>Amsterdam</td>\n",
              "      <td>Usam furfural como MP. Testam algumas variávei...</td>\n",
              "      <td>NaN</td>\n",
              "    </tr>\n",
              "    <tr>\n",
              "      <th>4</th>\n",
              "      <td>Lee, Y; Kim, YT; Kwon, EE; Lee, J</td>\n",
              "      <td>Biochar as a catalytic material for the produc...</td>\n",
              "      <td>Biomass valorization is emerging as a new tren...</td>\n",
              "      <td>2020</td>\n",
              "      <td>10.1016/j.envres.2020.109325</td>\n",
              "      <td>Fase Líquida</td>\n",
              "      <td>Ru–Re/AC; Ru–Re/biochar</td>\n",
              "      <td>Re-Ru</td>\n",
              "      <td>Batch Reactor</td>\n",
              "      <td>100.0</td>\n",
              "      <td>160.0</td>\n",
              "      <td>30.0</td>\n",
              "      <td>NaN</td>\n",
              "      <td>NaN</td>\n",
              "      <td>Batelada</td>\n",
              "      <td></td>\n",
              "      <td>Furfural/Furano</td>\n",
              "      <td>Petro</td>\n",
              "      <td>Ajou University</td>\n",
              "      <td>Korea</td>\n",
              "      <td>Furano como MP. Paper de proposição de novo bi...</td>\n",
              "      <td>NaN</td>\n",
              "    </tr>\n",
              "  </tbody>\n",
              "</table>\n",
              "</div>"
            ],
            "text/plain": [
              "                                             Authors  ... Unnamed: 21\n",
              "0  De Bari, I; Giuliano, A; Petrone, MT; Stoppiel...  ...         NaN\n",
              "1  Ly, BK; Tapin, B; Epron, F; Pinel, C; Especel,...  ...         NaN\n",
              "2  Tapin, B; Ly, BK; Canaff, C; Epron, F; Pinel, ...  ...         NaN\n",
              "3                              Lange, JP; Wadman, SH  ...         NaN\n",
              "4                  Lee, Y; Kim, YT; Kwon, EE; Lee, J  ...         NaN\n",
              "\n",
              "[5 rows x 22 columns]"
            ]
          },
          "metadata": {},
          "execution_count": 27
        }
      ]
    },
    {
      "cell_type": "code",
      "metadata": {
        "id": "zLDeeq1GtAmV",
        "colab": {
          "base_uri": "https://localhost:8080/",
          "height": 300
        },
        "outputId": "b2a94499-4c25-4dbb-90bf-442df610d49b"
      },
      "source": [
        "df_art.describe()"
      ],
      "execution_count": null,
      "outputs": [
        {
          "output_type": "execute_result",
          "data": {
            "text/html": [
              "<div>\n",
              "<style scoped>\n",
              "    .dataframe tbody tr th:only-of-type {\n",
              "        vertical-align: middle;\n",
              "    }\n",
              "\n",
              "    .dataframe tbody tr th {\n",
              "        vertical-align: top;\n",
              "    }\n",
              "\n",
              "    .dataframe thead th {\n",
              "        text-align: right;\n",
              "    }\n",
              "</style>\n",
              "<table border=\"1\" class=\"dataframe\">\n",
              "  <thead>\n",
              "    <tr style=\"text-align: right;\">\n",
              "      <th></th>\n",
              "      <th>Publication Year</th>\n",
              "      <th>Volume do Reator (ml)</th>\n",
              "      <th>Temperatura (C)</th>\n",
              "      <th>Pressao (bar)</th>\n",
              "      <th>Rendimento</th>\n",
              "      <th>Seletividade</th>\n",
              "    </tr>\n",
              "  </thead>\n",
              "  <tbody>\n",
              "    <tr>\n",
              "      <th>count</th>\n",
              "      <td>41.000000</td>\n",
              "      <td>34.000000</td>\n",
              "      <td>39.000000</td>\n",
              "      <td>39.000000</td>\n",
              "      <td>19.000000</td>\n",
              "      <td>28.000000</td>\n",
              "    </tr>\n",
              "    <tr>\n",
              "      <th>mean</th>\n",
              "      <td>2015.682927</td>\n",
              "      <td>298.676471</td>\n",
              "      <td>184.743590</td>\n",
              "      <td>86.153846</td>\n",
              "      <td>0.578842</td>\n",
              "      <td>0.661464</td>\n",
              "    </tr>\n",
              "    <tr>\n",
              "      <th>std</th>\n",
              "      <td>3.895119</td>\n",
              "      <td>669.752678</td>\n",
              "      <td>35.963225</td>\n",
              "      <td>43.192676</td>\n",
              "      <td>0.309911</td>\n",
              "      <td>0.284745</td>\n",
              "    </tr>\n",
              "    <tr>\n",
              "      <th>min</th>\n",
              "      <td>2002.000000</td>\n",
              "      <td>40.000000</td>\n",
              "      <td>120.000000</td>\n",
              "      <td>8.000000</td>\n",
              "      <td>0.077000</td>\n",
              "      <td>0.030000</td>\n",
              "    </tr>\n",
              "    <tr>\n",
              "      <th>25%</th>\n",
              "      <td>2014.000000</td>\n",
              "      <td>50.000000</td>\n",
              "      <td>160.000000</td>\n",
              "      <td>50.000000</td>\n",
              "      <td>0.255000</td>\n",
              "      <td>0.630250</td>\n",
              "    </tr>\n",
              "    <tr>\n",
              "      <th>50%</th>\n",
              "      <td>2015.000000</td>\n",
              "      <td>150.000000</td>\n",
              "      <td>170.000000</td>\n",
              "      <td>80.000000</td>\n",
              "      <td>0.670000</td>\n",
              "      <td>0.706500</td>\n",
              "    </tr>\n",
              "    <tr>\n",
              "      <th>75%</th>\n",
              "      <td>2019.000000</td>\n",
              "      <td>300.000000</td>\n",
              "      <td>200.000000</td>\n",
              "      <td>116.000000</td>\n",
              "      <td>0.835000</td>\n",
              "      <td>0.860000</td>\n",
              "    </tr>\n",
              "    <tr>\n",
              "      <th>max</th>\n",
              "      <td>2021.000000</td>\n",
              "      <td>4000.000000</td>\n",
              "      <td>265.000000</td>\n",
              "      <td>150.000000</td>\n",
              "      <td>0.990000</td>\n",
              "      <td>1.000000</td>\n",
              "    </tr>\n",
              "  </tbody>\n",
              "</table>\n",
              "</div>"
            ],
            "text/plain": [
              "       Publication Year  Volume do Reator (ml)  ...  Rendimento  Seletividade\n",
              "count         41.000000              34.000000  ...   19.000000     28.000000\n",
              "mean        2015.682927             298.676471  ...    0.578842      0.661464\n",
              "std            3.895119             669.752678  ...    0.309911      0.284745\n",
              "min         2002.000000              40.000000  ...    0.077000      0.030000\n",
              "25%         2014.000000              50.000000  ...    0.255000      0.630250\n",
              "50%         2015.000000             150.000000  ...    0.670000      0.706500\n",
              "75%         2019.000000             300.000000  ...    0.835000      0.860000\n",
              "max         2021.000000            4000.000000  ...    0.990000      1.000000\n",
              "\n",
              "[8 rows x 6 columns]"
            ]
          },
          "metadata": {},
          "execution_count": 28
        }
      ]
    },
    {
      "cell_type": "markdown",
      "metadata": {
        "id": "5x_RCoIhN7oN"
      },
      "source": [
        "**Contagem de Catalisadores - Artigos**"
      ]
    },
    {
      "cell_type": "code",
      "metadata": {
        "id": "tLFHvLWtn6SA"
      },
      "source": [
        "df_art['Tipo de Catalisador'].value_counts().to_csv('artigos_tipodecatalisador.csv')"
      ],
      "execution_count": null,
      "outputs": []
    },
    {
      "cell_type": "code",
      "metadata": {
        "id": "GwVel5mktAea",
        "colab": {
          "base_uri": "https://localhost:8080/",
          "height": 672
        },
        "outputId": "66169078-ade0-446d-e0d8-4fd35a00c468"
      },
      "source": [
        "plt.figure(figsize = (15,8))\n",
        "ax = sns.countplot(x = 'Tipo de Catalisador',data = df_art, order = df_art['Tipo de Catalisador'].value_counts().index, palette='flare')\n",
        "plt.xticks(rotation=90)"
      ],
      "execution_count": null,
      "outputs": [
        {
          "output_type": "execute_result",
          "data": {
            "text/plain": [
              "(array([ 0,  1,  2,  3,  4,  5,  6,  7,  8,  9, 10, 11, 12, 13, 14, 15, 16,\n",
              "        17, 18, 19, 20, 21, 22]), <a list of 23 Text major ticklabel objects>)"
            ]
          },
          "metadata": {},
          "execution_count": 30
        },
        {
          "output_type": "display_data",
          "data": {
            "image/png": "[encoded data removed]",
            "text/plain": [
              "<Figure size 1080x576 with 1 Axes>"
            ]
          },
          "metadata": {
            "needs_background": "light"
          }
        }
      ]
    },
    {
      "cell_type": "markdown",
      "metadata": {
        "id": "IvPSVVqyOJNE"
      },
      "source": [
        "**Contagem de Empresas/Universidades - Artigos**"
      ]
    },
    {
      "cell_type": "code",
      "metadata": {
        "id": "nH2ZgqkjtAa0",
        "colab": {
          "base_uri": "https://localhost:8080/",
          "height": 1000
        },
        "outputId": "656c99bd-c1e9-4779-8473-b1389a925119"
      },
      "source": [
        "plt.figure(figsize = (15,8))\n",
        "ax = sns.countplot(x = 'Empresa (Aplicante)',data = df_art, order = df_art['Empresa (Aplicante)'].value_counts().index, palette='crest')\n",
        "plt.xticks(rotation=90)"
      ],
      "execution_count": null,
      "outputs": [
        {
          "output_type": "execute_result",
          "data": {
            "text/plain": [
              "(array([ 0,  1,  2,  3,  4,  5,  6,  7,  8,  9, 10, 11, 12, 13, 14, 15, 16,\n",
              "        17, 18, 19, 20, 21, 22, 23, 24]),\n",
              " <a list of 25 Text major ticklabel objects>)"
            ]
          },
          "metadata": {},
          "execution_count": 31
        },
        {
          "output_type": "display_data",
          "data": {
            "image/png": "[encoded data removed]",
            "text/plain": [
              "<Figure size 1080x576 with 1 Axes>"
            ]
          },
          "metadata": {
            "needs_background": "light"
          }
        }
      ]
    },
    {
      "cell_type": "markdown",
      "metadata": {
        "id": "dHA2-l3uOX_f"
      },
      "source": [
        "**Artigos por País**"
      ]
    },
    {
      "cell_type": "code",
      "metadata": {
        "colab": {
          "base_uri": "https://localhost:8080/"
        },
        "id": "GjomZQ8L-lu0",
        "outputId": "15696aab-a678-4e33-aeba-2d7c721cc412"
      },
      "source": [
        "df_art['Pais de Aplicacao'].value_counts()"
      ],
      "execution_count": null,
      "outputs": [
        {
          "output_type": "execute_result",
          "data": {
            "text/plain": [
              "France         8\n",
              "China          7\n",
              "Japan          5\n",
              "South Korea    5\n",
              "Korea          4\n",
              "USA            2\n",
              "Germany        1\n",
              "Taiwan         1\n",
              "Italy          1\n",
              "Amsterdam      1\n",
              "Poland         1\n",
              "Name: Pais de Aplicacao, dtype: int64"
            ]
          },
          "metadata": {},
          "execution_count": 32
        }
      ]
    },
    {
      "cell_type": "code",
      "metadata": {
        "id": "PZ3OSQThtAWw",
        "colab": {
          "base_uri": "https://localhost:8080/",
          "height": 582
        },
        "outputId": "c8429722-bc17-44ea-8b8c-4712eec4cf32"
      },
      "source": [
        "plt.figure(figsize = (15,8))\n",
        "ax = sns.countplot(x = 'Pais de Aplicacao',data = df_art, order = df_art['Pais de Aplicacao'].value_counts().index)\n",
        "plt.xticks(rotation=90)"
      ],
      "execution_count": null,
      "outputs": [
        {
          "output_type": "execute_result",
          "data": {
            "text/plain": [
              "(array([ 0,  1,  2,  3,  4,  5,  6,  7,  8,  9, 10]),\n",
              " <a list of 11 Text major ticklabel objects>)"
            ]
          },
          "metadata": {},
          "execution_count": 33
        },
        {
          "output_type": "display_data",
          "data": {
            "image/png": "[encoded data removed]",
            "text/plain": [
              "<Figure size 1080x576 with 1 Axes>"
            ]
          },
          "metadata": {
            "needs_background": "light"
          }
        }
      ]
    },
    {
      "cell_type": "markdown",
      "metadata": {
        "id": "yZOGFv-HOfRK"
      },
      "source": [
        "**Artigos por Ano**"
      ]
    },
    {
      "cell_type": "code",
      "metadata": {
        "colab": {
          "base_uri": "https://localhost:8080/"
        },
        "id": "k-7-aolwf9S1",
        "outputId": "a5a8aee7-5469-4dbd-df4d-33433ef09481"
      },
      "source": [
        "df_art['Publication Year'].value_counts()"
      ],
      "execution_count": null,
      "outputs": [
        {
          "output_type": "execute_result",
          "data": {
            "text/plain": [
              "2020    7\n",
              "2014    7\n",
              "2017    4\n",
              "2015    4\n",
              "2013    4\n",
              "2021    3\n",
              "2019    3\n",
              "2016    3\n",
              "2012    2\n",
              "2010    2\n",
              "2011    1\n",
              "2002    1\n",
              "Name: Publication Year, dtype: int64"
            ]
          },
          "metadata": {},
          "execution_count": 34
        }
      ]
    },
    {
      "cell_type": "code",
      "metadata": {
        "colab": {
          "base_uri": "https://localhost:8080/",
          "height": 546
        },
        "id": "m7cU-4KKgNqD",
        "outputId": "d0cf0c17-07a3-4fa3-ff34-4bf49ab14544"
      },
      "source": [
        "plt.figure(figsize = (15,8))\n",
        "ax = sns.countplot(x = 'Publication Year',data = df_art, order = df_art['Publication Year'].value_counts().index, palette='Reds')\n",
        "plt.xticks(rotation=90)"
      ],
      "execution_count": null,
      "outputs": [
        {
          "output_type": "execute_result",
          "data": {
            "text/plain": [
              "(array([ 0,  1,  2,  3,  4,  5,  6,  7,  8,  9, 10, 11]),\n",
              " <a list of 12 Text major ticklabel objects>)"
            ]
          },
          "metadata": {},
          "execution_count": 35
        },
        {
          "output_type": "display_data",
          "data": {
            "image/png": "[encoded data removed]",
            "text/plain": [
              "<Figure size 1080x576 with 1 Axes>"
            ]
          },
          "metadata": {
            "needs_background": "light"
          }
        }
      ]
    },
    {
      "cell_type": "code",
      "metadata": {
        "colab": {
          "base_uri": "https://localhost:8080/",
          "height": 546
        },
        "id": "JyMGjMJYgL4z",
        "outputId": "3543bfec-2ff0-4e2a-e30e-baa6d1926dc8"
      },
      "source": [
        "plt.figure(figsize = (15,8))\n",
        "ax = sns.countplot(x = 'Publication Year',data = df_art, order = df_art['Publication Year'].value_counts().index, palette='Reds')\n",
        "plt.xticks(rotation=90)"
      ],
      "execution_count": null,
      "outputs": [
        {
          "output_type": "execute_result",
          "data": {
            "text/plain": [
              "(array([ 0,  1,  2,  3,  4,  5,  6,  7,  8,  9, 10, 11]),\n",
              " <a list of 12 Text major ticklabel objects>)"
            ]
          },
          "metadata": {},
          "execution_count": 36
        },
        {
          "output_type": "display_data",
          "data": {
            "image/png": "[encoded data removed]",
            "text/plain": [
              "<Figure size 1080x576 with 1 Axes>"
            ]
          },
          "metadata": {
            "needs_background": "light"
          }
        }
      ]
    },
    {
      "cell_type": "code",
      "metadata": {
        "id": "HTaNYA8EtANP",
        "colab": {
          "base_uri": "https://localhost:8080/",
          "height": 546
        },
        "outputId": "3f53a8dc-7a3a-4fd1-93d5-33a242cb87a2"
      },
      "source": [
        "plt.figure(figsize = (15,8))\n",
        "ax = sns.countplot(x = 'Publication Year',data = df_art, order = df_art['Publication Year'].value_counts().index, palette='Reds')\n",
        "plt.xticks(rotation=90)"
      ],
      "execution_count": null,
      "outputs": [
        {
          "output_type": "execute_result",
          "data": {
            "text/plain": [
              "(array([ 0,  1,  2,  3,  4,  5,  6,  7,  8,  9, 10, 11]),\n",
              " <a list of 12 Text major ticklabel objects>)"
            ]
          },
          "metadata": {},
          "execution_count": 37
        },
        {
          "output_type": "display_data",
          "data": {
            "image/png": "[encoded data removed]",
            "text/plain": [
              "<Figure size 1080x576 with 1 Axes>"
            ]
          },
          "metadata": {
            "needs_background": "light"
          }
        }
      ]
    },
    {
      "cell_type": "markdown",
      "metadata": {
        "id": "xTqIkrONPJq2"
      },
      "source": [
        "**Contagem MP - Artigos**"
      ]
    },
    {
      "cell_type": "code",
      "metadata": {
        "id": "B9fn32hMENjF",
        "colab": {
          "base_uri": "https://localhost:8080/"
        },
        "outputId": "d4d1d8e6-2043-4764-8139-da8b6179fb36"
      },
      "source": [
        "df_art['MP'].value_counts()"
      ],
      "execution_count": null,
      "outputs": [
        {
          "output_type": "execute_result",
          "data": {
            "text/plain": [
              "SA                                 29\n",
              "Furfural/Furano                     3\n",
              "GBL                                 2\n",
              "DES                                 1\n",
              "Dietil Succinato                    1\n",
              "DAB                                 1\n",
              "SA; GBL                             1\n",
              "DMS                                 1\n",
              "cardoon lignocellulosic biomass     1\n",
              "Diethyl Succinate                   1\n",
              "Name: MP, dtype: int64"
            ]
          },
          "metadata": {},
          "execution_count": 38
        }
      ]
    },
    {
      "cell_type": "code",
      "metadata": {
        "id": "c8wS6Xr9s_-P",
        "colab": {
          "base_uri": "https://localhost:8080/",
          "height": 681
        },
        "outputId": "a766231b-5dd8-4ee6-9350-8e76b5bfe05b"
      },
      "source": [
        "plt.figure(figsize = (15,8))\n",
        "ax = sns.countplot(x = 'MP',data = df_art, order = df_art['MP'].value_counts().index, palette='Greens')\n",
        "plt.xticks(rotation=90)\n",
        "#plt.yticks(range(0 ,21))"
      ],
      "execution_count": null,
      "outputs": [
        {
          "output_type": "execute_result",
          "data": {
            "text/plain": [
              "(array([0, 1, 2, 3, 4, 5, 6, 7, 8, 9]),\n",
              " <a list of 10 Text major ticklabel objects>)"
            ]
          },
          "metadata": {},
          "execution_count": 39
        },
        {
          "output_type": "display_data",
          "data": {
            "image/png": "[encoded data removed]",
            "text/plain": [
              "<Figure size 1080x576 with 1 Axes>"
            ]
          },
          "metadata": {
            "needs_background": "light"
          }
        }
      ]
    },
    {
      "cell_type": "markdown",
      "metadata": {
        "id": "8-Rvj0A8Qno2"
      },
      "source": [
        "**Análise de P e T - Excel**"
      ]
    },
    {
      "cell_type": "code",
      "metadata": {
        "id": "qgs3BuKDs_tO"
      },
      "source": [
        "por_catalisador_art = df_art.groupby('Tipo de Catalisador')\n",
        "por_catalisador_medias_art = por_catalisador_art.mean()\n",
        "#por_catalisador_medias_art.to_excel('por_catalisador_medias_artigos.xlsx')"
      ],
      "execution_count": null,
      "outputs": []
    },
    {
      "cell_type": "code",
      "metadata": {
        "id": "roUL9lEQs_Hd"
      },
      "source": [
        "por_empresa_art = df_art.groupby('Empresa (Aplicante)')\n",
        "por_empresa_medias_art = por_empresa_art.mean()\n",
        "#por_empresa_medias_art.to_excel('por_empresas_medias_artigos.xlsx')"
      ],
      "execution_count": null,
      "outputs": []
    },
    {
      "cell_type": "code",
      "metadata": {
        "id": "ZgJbxowavvcd"
      },
      "source": [
        "por_regime_art = df_art.groupby('Regime')\n",
        "por_regime_medias_art = por_regime_art.mean()\n",
        "#por_regime_medias_art.to_excel('por_regime_medias_artigos.xlsx')"
      ],
      "execution_count": null,
      "outputs": []
    },
    {
      "cell_type": "code",
      "metadata": {
        "id": "gxbm5gK9x0Pb"
      },
      "source": [
        "por_mp_art = df_art.groupby('MP')\n",
        "por_mp_medias_art = por_mp_art.mean()\n",
        "#por_mp_medias_art.to_excel('por_mp_medias_artigos.xlsx')"
      ],
      "execution_count": null,
      "outputs": []
    },
    {
      "cell_type": "markdown",
      "metadata": {
        "id": "fzcSbvTKQqAc"
      },
      "source": [
        "**Pente-Fino Empresas**"
      ]
    },
    {
      "cell_type": "code",
      "metadata": {
        "id": "IsquWmoEyjs1",
        "colab": {
          "base_uri": "https://localhost:8080/",
          "height": 1000
        },
        "outputId": "1676281e-5f76-49f0-ed33-531dff9ab2f4"
      },
      "source": [
        "standard_oil = df[df['Empresa (Simplificado)'] == 'STANDARD OIL']\n",
        "standard_oil"
      ],
      "execution_count": null,
      "outputs": [
        {
          "output_type": "execute_result",
          "data": {
            "text/html": [
              "<div>\n",
              "<style scoped>\n",
              "    .dataframe tbody tr th:only-of-type {\n",
              "        vertical-align: middle;\n",
              "    }\n",
              "\n",
              "    .dataframe tbody tr th {\n",
              "        vertical-align: top;\n",
              "    }\n",
              "\n",
              "    .dataframe thead th {\n",
              "        text-align: right;\n",
              "    }\n",
              "</style>\n",
              "<table border=\"1\" class=\"dataframe\">\n",
              "  <thead>\n",
              "    <tr style=\"text-align: right;\">\n",
              "      <th></th>\n",
              "      <th>Patent Number</th>\n",
              "      <th>Patent Title/INPI Reaction</th>\n",
              "      <th>Authors/Inventors</th>\n",
              "      <th>Empresa</th>\n",
              "      <th>Ano</th>\n",
              "      <th>Aplicacoes</th>\n",
              "      <th>Status (Desc.)</th>\n",
              "      <th>Status (A/I)</th>\n",
              "      <th>Solvente</th>\n",
              "      <th>Tipo de Catálise</th>\n",
              "      <th>Catalisador</th>\n",
              "      <th>Tipo de Catalisador</th>\n",
              "      <th>Tipo de Reator</th>\n",
              "      <th>Volume do Reator</th>\n",
              "      <th>Temperatura</th>\n",
              "      <th>Temperatura Min (C)</th>\n",
              "      <th>Temperatura Med (C)</th>\n",
              "      <th>Temperatura Max (C)</th>\n",
              "      <th>Pressão</th>\n",
              "      <th>Pressão Min (bar)</th>\n",
              "      <th>Presso Med (bar)</th>\n",
              "      <th>Pressão Max (bar)</th>\n",
              "      <th>Rendimento</th>\n",
              "      <th>Rendimento (%)</th>\n",
              "      <th>Seletividade</th>\n",
              "      <th>Seletividade (%)</th>\n",
              "      <th>Regime (Bat./Cont.)</th>\n",
              "      <th>Regime</th>\n",
              "      <th>Tempo de Batelada/Residência</th>\n",
              "      <th>Quantidade SA</th>\n",
              "      <th>MP</th>\n",
              "      <th>Novo MP</th>\n",
              "      <th>acido/ester</th>\n",
              "      <th>Fonte SA (Bio/Petro)</th>\n",
              "      <th>Empresa (Simplificado)</th>\n",
              "      <th>País de Aplicação</th>\n",
              "      <th>Observações/Comentários</th>\n",
              "      <th>Exemplo</th>\n",
              "    </tr>\n",
              "  </thead>\n",
              "  <tbody>\n",
              "    <tr>\n",
              "      <th>15</th>\n",
              "      <td>WO200218316-A2;  AU200185320-A;  EP1313693-A2;...</td>\n",
              "      <td>Production of butyrolactone, 1,4-butanediol an...</td>\n",
              "      <td>HEPFER R P;  MILLER C T;  ATTIG T G;  NORENBER...</td>\n",
              "      <td>STANDARD OIL CO OHIO (STAH-C);  STANDARD OIL C...</td>\n",
              "      <td>2002</td>\n",
              "      <td>WO200218316-A2    WOUS26765    27 Aug 2001;   ...</td>\n",
              "      <td>NaN</td>\n",
              "      <td>Inactive</td>\n",
              "      <td>Water</td>\n",
              "      <td>NaN</td>\n",
              "      <td>Pd-Ag-Re/C</td>\n",
              "      <td>Ag-Pd-Re</td>\n",
              "      <td>Fixed Bed</td>\n",
              "      <td>200mL</td>\n",
              "      <td>130-180C</td>\n",
              "      <td>130.0</td>\n",
              "      <td>155.0</td>\n",
              "      <td>180.0</td>\n",
              "      <td>101-274bar</td>\n",
              "      <td>101.0</td>\n",
              "      <td>NaN</td>\n",
              "      <td>274.0</td>\n",
              "      <td>80-90%</td>\n",
              "      <td>0.85</td>\n",
              "      <td>NaN</td>\n",
              "      <td>NaN</td>\n",
              "      <td>Batelada</td>\n",
              "      <td>Batelada</td>\n",
              "      <td>0.1min-20h</td>\n",
              "      <td>NaN</td>\n",
              "      <td>SA</td>\n",
              "      <td>SA</td>\n",
              "      <td>Ácido</td>\n",
              "      <td>NaN</td>\n",
              "      <td>STANDARD OIL</td>\n",
              "      <td>US</td>\n",
              "      <td>Dão a entender que é super simples atingir 80-...</td>\n",
              "      <td>NaN</td>\n",
              "    </tr>\n",
              "    <tr>\n",
              "      <th>19</th>\n",
              "      <td>CN1286139-A;  CN1114488-C</td>\n",
              "      <td>Improved catalyst for preparing 1,4-butanediol...</td>\n",
              "      <td>NaN</td>\n",
              "      <td>MOBIL OIL CORP (MOBI-C);  STANDARD OIL CO OHIO...</td>\n",
              "      <td>2001</td>\n",
              "      <td>CN1286139-A    CN119278    30 Aug 1999</td>\n",
              "      <td>Expired - Fee Related</td>\n",
              "      <td>Inactive</td>\n",
              "      <td>NaN</td>\n",
              "      <td>Fase Líquida</td>\n",
              "      <td>Pd-Ag-Re/C</td>\n",
              "      <td>Ag-Pd-Re</td>\n",
              "      <td>CSTR; Fixed Bed</td>\n",
              "      <td>NaN</td>\n",
              "      <td>80-200C</td>\n",
              "      <td>80.0</td>\n",
              "      <td>140.0</td>\n",
              "      <td>200.0</td>\n",
              "      <td>172bar</td>\n",
              "      <td>NaN</td>\n",
              "      <td>172.0</td>\n",
              "      <td>NaN</td>\n",
              "      <td>NaN</td>\n",
              "      <td>NaN</td>\n",
              "      <td>NaN</td>\n",
              "      <td>NaN</td>\n",
              "      <td>Batelada</td>\n",
              "      <td>Batelada</td>\n",
              "      <td>23h</td>\n",
              "      <td>0.35</td>\n",
              "      <td>Acido Maleico</td>\n",
              "      <td>MA</td>\n",
              "      <td>Ácido</td>\n",
              "      <td>NaN</td>\n",
              "      <td>STANDARD OIL</td>\n",
              "      <td>China</td>\n",
              "      <td>Patente de catalisador, foco em acido maleico ...</td>\n",
              "      <td>NaN</td>\n",
              "    </tr>\n",
              "    <tr>\n",
              "      <th>23</th>\n",
              "      <td>US5969164-A;  ZA9904944-A;  AU9943498-A;  EP10...</td>\n",
              "      <td>Maleic acid hydrogenation catalyst, suitable f...</td>\n",
              "      <td>DUBBERT R A;  BUDGE J R;  ATTIG T G;  JOHN;  T...</td>\n",
              "      <td>STANDARD OIL CO OHIO (STAH-C);  STANDARD OIL C...</td>\n",
              "      <td>1999</td>\n",
              "      <td>US5969164-A    US056193    06 Apr 1998;   ZA99...</td>\n",
              "      <td>Expired - Lifetime</td>\n",
              "      <td>Inactive</td>\n",
              "      <td>NaN</td>\n",
              "      <td>Fase Líquida</td>\n",
              "      <td>Pd-Ag-Re-(Fe, Al, Co)/C</td>\n",
              "      <td>Ag-Pd-Re</td>\n",
              "      <td>NaN</td>\n",
              "      <td>NaN</td>\n",
              "      <td>80-200C</td>\n",
              "      <td>80.0</td>\n",
              "      <td>140.0</td>\n",
              "      <td>200.0</td>\n",
              "      <td>20-405bar</td>\n",
              "      <td>20.0</td>\n",
              "      <td>NaN</td>\n",
              "      <td>405.0</td>\n",
              "      <td>80-90%</td>\n",
              "      <td>0.85</td>\n",
              "      <td>NaN</td>\n",
              "      <td>NaN</td>\n",
              "      <td>Contínuo</td>\n",
              "      <td>Contínuo</td>\n",
              "      <td>0.1min-20h</td>\n",
              "      <td>30-50%</td>\n",
              "      <td>Acido Maleico</td>\n",
              "      <td>Acido Maleico</td>\n",
              "      <td>Ácido</td>\n",
              "      <td>NaN</td>\n",
              "      <td>STANDARD OIL</td>\n",
              "      <td>US</td>\n",
              "      <td>Hidrogenam acido maleico, mas dizem que pode s...</td>\n",
              "      <td>NaN</td>\n",
              "    </tr>\n",
              "    <tr>\n",
              "      <th>24</th>\n",
              "      <td>EP919530-A1;  AU9891414-A;  JP11240846-A;  CN1...</td>\n",
              "      <td>Process for the hydrogenation of maleic acid o...</td>\n",
              "      <td>ATTIG T G;  BUDGE J R;  DUBBERT R A;  RAYMOND ...</td>\n",
              "      <td>STANDARD OIL CO OHIO (STAH-C);  STANDARD OIL C...</td>\n",
              "      <td>1999</td>\n",
              "      <td>EP919530-A1    EP309711    26 Nov 1998;   AU98...</td>\n",
              "      <td>Expired - Lifetime</td>\n",
              "      <td>Inactive</td>\n",
              "      <td>NaN</td>\n",
              "      <td>Fase Líquida</td>\n",
              "      <td>Pd-Ag-Re/C</td>\n",
              "      <td>Ag-Pd-Re</td>\n",
              "      <td>Fixed Bed; CSTR</td>\n",
              "      <td>NaN</td>\n",
              "      <td>50-350C</td>\n",
              "      <td>50.0</td>\n",
              "      <td>200.0</td>\n",
              "      <td>350.0</td>\n",
              "      <td>20-405bar</td>\n",
              "      <td>20.0</td>\n",
              "      <td>NaN</td>\n",
              "      <td>405.0</td>\n",
              "      <td>80-90%</td>\n",
              "      <td>0.85</td>\n",
              "      <td>NaN</td>\n",
              "      <td>NaN</td>\n",
              "      <td>Contínuo</td>\n",
              "      <td>Contínuo</td>\n",
              "      <td>0.1min-20h</td>\n",
              "      <td>10-60%</td>\n",
              "      <td>Acido Maleico</td>\n",
              "      <td>Acido Maleico</td>\n",
              "      <td>Ácido</td>\n",
              "      <td>NaN</td>\n",
              "      <td>STANDARD OIL</td>\n",
              "      <td>US</td>\n",
              "      <td>Patente de ácido maleico que novamente diz pod...</td>\n",
              "      <td>NaN</td>\n",
              "    </tr>\n",
              "    <tr>\n",
              "      <th>26</th>\n",
              "      <td>EP848991-A1;  AU9743631-A;  JP10192709-A;  KR9...</td>\n",
              "      <td>Catalyst useful for production of 1,4-butanedi...</td>\n",
              "      <td>RAYMOND J;  ATTIG T G;  DUBBERT R A;  BUDGE J R</td>\n",
              "      <td>STANDARD OIL CO OHIO (STAH-C);  STANDARD OIL C...</td>\n",
              "      <td>1998</td>\n",
              "      <td>EP848991-A1    EP310014    11 Dec 1997;   AU97...</td>\n",
              "      <td>Expired - Lifetime</td>\n",
              "      <td>Inactive</td>\n",
              "      <td>NaN</td>\n",
              "      <td>Fase Líquida</td>\n",
              "      <td>Pd-Ag-Re/C; Pd-Ag-Re-Fe/C</td>\n",
              "      <td>Ag-Pd-Re</td>\n",
              "      <td>Fixed Bed</td>\n",
              "      <td>NaN</td>\n",
              "      <td>80-200C</td>\n",
              "      <td>80.0</td>\n",
              "      <td>140.0</td>\n",
              "      <td>200.0</td>\n",
              "      <td>20-405bar</td>\n",
              "      <td>20.0</td>\n",
              "      <td>NaN</td>\n",
              "      <td>405.0</td>\n",
              "      <td>80-90%</td>\n",
              "      <td>0.85</td>\n",
              "      <td>NaN</td>\n",
              "      <td>NaN</td>\n",
              "      <td>Contínuo</td>\n",
              "      <td>Contínuo</td>\n",
              "      <td>0.1min-20h</td>\n",
              "      <td>30-50%</td>\n",
              "      <td>Acido Maleico</td>\n",
              "      <td>Acido Maleico</td>\n",
              "      <td>Ácido</td>\n",
              "      <td>NaN</td>\n",
              "      <td>STANDARD OIL</td>\n",
              "      <td>US</td>\n",
              "      <td>Semelhante à 90.</td>\n",
              "      <td>NaN</td>\n",
              "    </tr>\n",
              "    <tr>\n",
              "      <th>27</th>\n",
              "      <td>US5698749-A;  EP881203-A1;  KR99003339-A;  MX9...</td>\n",
              "      <td>Production of 1,4-butanediol by hydrogenation ...</td>\n",
              "      <td>BUDGE J R;  FRYE J G;  PEDERSEN S E;  ATTIG T ...</td>\n",
              "      <td>STANDARD OIL CO OHIO (STAH-C);  STANDARD OIL C...</td>\n",
              "      <td>1998</td>\n",
              "      <td>US5698749-A    US524195    06 Sep 1995;   EP88...</td>\n",
              "      <td>Expired (Lifetime)</td>\n",
              "      <td>Inactive</td>\n",
              "      <td>NaN</td>\n",
              "      <td>Fase Líquida</td>\n",
              "      <td>Pd-Re/C</td>\n",
              "      <td>Pd-Re</td>\n",
              "      <td>CSTR; Fixed Bed</td>\n",
              "      <td>NaN</td>\n",
              "      <td>NaN</td>\n",
              "      <td>NaN</td>\n",
              "      <td>NaN</td>\n",
              "      <td>NaN</td>\n",
              "      <td>NaN</td>\n",
              "      <td>NaN</td>\n",
              "      <td>NaN</td>\n",
              "      <td>NaN</td>\n",
              "      <td>80-90%</td>\n",
              "      <td>0.85</td>\n",
              "      <td>NaN</td>\n",
              "      <td>NaN</td>\n",
              "      <td>NaN</td>\n",
              "      <td>NaN</td>\n",
              "      <td>NaN</td>\n",
              "      <td>NaN</td>\n",
              "      <td>Acido Maleico</td>\n",
              "      <td>Acido Maleico</td>\n",
              "      <td>Ácido</td>\n",
              "      <td>NaN</td>\n",
              "      <td>STANDARD OIL</td>\n",
              "      <td>US</td>\n",
              "      <td>Patente de catalisador que se propôe a maximiz...</td>\n",
              "      <td>NaN</td>\n",
              "    </tr>\n",
              "    <tr>\n",
              "      <th>30</th>\n",
              "      <td>US5473086-A;  EP722923-A2;  JP8193040-A;  EP72...</td>\n",
              "      <td>Hydrogenation of maleic acid to 1,4-butane-dio...</td>\n",
              "      <td>ATTIG T G;  BUDGE J R;  PEDERSEN S E;  PEDERSE...</td>\n",
              "      <td>STANDARD OIL CO OHIO (STAH-C);  STANDARD OIL C...</td>\n",
              "      <td>1996</td>\n",
              "      <td>US5473086-A    US373666    17 Jan 1995;   EP72...</td>\n",
              "      <td>NaN</td>\n",
              "      <td>NaN</td>\n",
              "      <td>NaN</td>\n",
              "      <td>Fase Líquida</td>\n",
              "      <td>Pd-Ag-Re/C</td>\n",
              "      <td>Ag-Pd-Re</td>\n",
              "      <td>CSTR; Fixed Bed</td>\n",
              "      <td>NaN</td>\n",
              "      <td>50-350C</td>\n",
              "      <td>50.0</td>\n",
              "      <td>200.0</td>\n",
              "      <td>350.0</td>\n",
              "      <td>20-405bar</td>\n",
              "      <td>20.0</td>\n",
              "      <td>NaN</td>\n",
              "      <td>405.0</td>\n",
              "      <td>80-90%</td>\n",
              "      <td>0.85</td>\n",
              "      <td>NaN</td>\n",
              "      <td>NaN</td>\n",
              "      <td>Contínuo</td>\n",
              "      <td>Contínuo</td>\n",
              "      <td>0.1min-20h</td>\n",
              "      <td>30-50%</td>\n",
              "      <td>Acido Maleico</td>\n",
              "      <td>Acido Maleico</td>\n",
              "      <td>Ácido</td>\n",
              "      <td>NaN</td>\n",
              "      <td>STANDARD OIL</td>\n",
              "      <td>US</td>\n",
              "      <td>Mais uma boa patente da SO, de novo preferem h...</td>\n",
              "      <td>NaN</td>\n",
              "    </tr>\n",
              "    <tr>\n",
              "      <th>32</th>\n",
              "      <td>US5196602-A</td>\n",
              "      <td>1,4-Butane-diol prepn. by hydrogenation of mal...</td>\n",
              "      <td>BUDGE J R;  ATTIG T G;  GRAHAM A M</td>\n",
              "      <td>STANDARD OIL CO OHIO (STAH-C)</td>\n",
              "      <td>1993</td>\n",
              "      <td>US5196602-A    US814644    30 Dec 1991</td>\n",
              "      <td>Expired - Fee related</td>\n",
              "      <td>Inactive</td>\n",
              "      <td>NaN</td>\n",
              "      <td>Fase Líquida; Fase Gasosa; Fase Mista</td>\n",
              "      <td>Ru-(Ni,Pd)-(Fe,Co,Rh,Os,Ir,Pt)-(Cd,Zn)</td>\n",
              "      <td>Ru</td>\n",
              "      <td>Fixed Bed</td>\n",
              "      <td>NaN</td>\n",
              "      <td>200-300C</td>\n",
              "      <td>200.0</td>\n",
              "      <td>250.0</td>\n",
              "      <td>300.0</td>\n",
              "      <td>52-103bar</td>\n",
              "      <td>52.0</td>\n",
              "      <td>NaN</td>\n",
              "      <td>103.0</td>\n",
              "      <td>NaN</td>\n",
              "      <td>NaN</td>\n",
              "      <td>90-95%</td>\n",
              "      <td>0.925</td>\n",
              "      <td>Ambos</td>\n",
              "      <td>Batelada ou Contínuo</td>\n",
              "      <td>0.1-2min-1; 2-14h</td>\n",
              "      <td>1-5%</td>\n",
              "      <td>SA</td>\n",
              "      <td>SA</td>\n",
              "      <td>Ácido</td>\n",
              "      <td>NaN</td>\n",
              "      <td>STANDARD OIL</td>\n",
              "      <td>US</td>\n",
              "      <td>2 etapas onde a segunda é a hidrogenação de su...</td>\n",
              "      <td>NaN</td>\n",
              "    </tr>\n",
              "    <tr>\n",
              "      <th>60</th>\n",
              "      <td>US4301077-A;  EP55512-A;  JP57109736-A;  CA115...</td>\n",
              "      <td>Tetra:hydro-furan and/or 1,4-butane-diol prodn...</td>\n",
              "      <td>PESA F A;  GRAHAM A M</td>\n",
              "      <td>STANDARD OIL CO OHIO (STAH-C);  PESA F A (PESA...</td>\n",
              "      <td>1981</td>\n",
              "      <td>NaN</td>\n",
              "      <td>Expired</td>\n",
              "      <td>Inactive</td>\n",
              "      <td>NaN</td>\n",
              "      <td>Fase Líquida; Fase Gasosa; Fase Mista</td>\n",
              "      <td>RuNiCoZn</td>\n",
              "      <td>Ru</td>\n",
              "      <td>Fixed bed; Fluid bed</td>\n",
              "      <td>NaN</td>\n",
              "      <td>200-250</td>\n",
              "      <td>200.0</td>\n",
              "      <td>225.0</td>\n",
              "      <td>250.0</td>\n",
              "      <td>69-103bar</td>\n",
              "      <td>69.0</td>\n",
              "      <td>NaN</td>\n",
              "      <td>103.0</td>\n",
              "      <td>NaN</td>\n",
              "      <td>NaN</td>\n",
              "      <td>NaN</td>\n",
              "      <td>NaN</td>\n",
              "      <td>Ambos</td>\n",
              "      <td>NaN</td>\n",
              "      <td>NaN</td>\n",
              "      <td>NaN</td>\n",
              "      <td>Anidrido Maleico</td>\n",
              "      <td>NaN</td>\n",
              "      <td>Anidrido</td>\n",
              "      <td>NaN</td>\n",
              "      <td>STANDARD OIL</td>\n",
              "      <td>NaN</td>\n",
              "      <td>Usaram anidrido maleico... Dei sim por afirmar...</td>\n",
              "      <td>NaN</td>\n",
              "    </tr>\n",
              "  </tbody>\n",
              "</table>\n",
              "</div>"
            ],
            "text/plain": [
              "                                        Patent Number  ... Exemplo\n",
              "15  WO200218316-A2;  AU200185320-A;  EP1313693-A2;...  ...     NaN\n",
              "19                          CN1286139-A;  CN1114488-C  ...     NaN\n",
              "23  US5969164-A;  ZA9904944-A;  AU9943498-A;  EP10...  ...     NaN\n",
              "24  EP919530-A1;  AU9891414-A;  JP11240846-A;  CN1...  ...     NaN\n",
              "26  EP848991-A1;  AU9743631-A;  JP10192709-A;  KR9...  ...     NaN\n",
              "27  US5698749-A;  EP881203-A1;  KR99003339-A;  MX9...  ...     NaN\n",
              "30  US5473086-A;  EP722923-A2;  JP8193040-A;  EP72...  ...     NaN\n",
              "32                                        US5196602-A  ...     NaN\n",
              "60  US4301077-A;  EP55512-A;  JP57109736-A;  CA115...  ...     NaN\n",
              "\n",
              "[9 rows x 38 columns]"
            ]
          },
          "metadata": {},
          "execution_count": 44
        }
      ]
    },
    {
      "cell_type": "code",
      "metadata": {
        "id": "T1wWVl9-EfhN",
        "colab": {
          "base_uri": "https://localhost:8080/",
          "height": 962
        },
        "outputId": "0f315912-597c-4c53-98dc-7c51e6d6e034"
      },
      "source": [
        "basf = df[df['Empresa (Simplificado)'] == 'BASF']\n",
        "basf"
      ],
      "execution_count": null,
      "outputs": [
        {
          "output_type": "execute_result",
          "data": {
            "text/html": [
              "<div>\n",
              "<style scoped>\n",
              "    .dataframe tbody tr th:only-of-type {\n",
              "        vertical-align: middle;\n",
              "    }\n",
              "\n",
              "    .dataframe tbody tr th {\n",
              "        vertical-align: top;\n",
              "    }\n",
              "\n",
              "    .dataframe thead th {\n",
              "        text-align: right;\n",
              "    }\n",
              "</style>\n",
              "<table border=\"1\" class=\"dataframe\">\n",
              "  <thead>\n",
              "    <tr style=\"text-align: right;\">\n",
              "      <th></th>\n",
              "      <th>Patent Number</th>\n",
              "      <th>Patent Title/INPI Reaction</th>\n",
              "      <th>Authors/Inventors</th>\n",
              "      <th>Empresa</th>\n",
              "      <th>Ano</th>\n",
              "      <th>Aplicacoes</th>\n",
              "      <th>Status (Desc.)</th>\n",
              "      <th>Status (A/I)</th>\n",
              "      <th>Solvente</th>\n",
              "      <th>Tipo de Catálise</th>\n",
              "      <th>Catalisador</th>\n",
              "      <th>Tipo de Catalisador</th>\n",
              "      <th>Tipo de Reator</th>\n",
              "      <th>Volume do Reator</th>\n",
              "      <th>Temperatura</th>\n",
              "      <th>Temperatura Min (C)</th>\n",
              "      <th>Temperatura Med (C)</th>\n",
              "      <th>Temperatura Max (C)</th>\n",
              "      <th>Pressão</th>\n",
              "      <th>Pressão Min (bar)</th>\n",
              "      <th>Presso Med (bar)</th>\n",
              "      <th>Pressão Max (bar)</th>\n",
              "      <th>Rendimento</th>\n",
              "      <th>Rendimento (%)</th>\n",
              "      <th>Seletividade</th>\n",
              "      <th>Seletividade (%)</th>\n",
              "      <th>Regime (Bat./Cont.)</th>\n",
              "      <th>Regime</th>\n",
              "      <th>Tempo de Batelada/Residência</th>\n",
              "      <th>Quantidade SA</th>\n",
              "      <th>MP</th>\n",
              "      <th>Novo MP</th>\n",
              "      <th>acido/ester</th>\n",
              "      <th>Fonte SA (Bio/Petro)</th>\n",
              "      <th>Empresa (Simplificado)</th>\n",
              "      <th>País de Aplicação</th>\n",
              "      <th>Observações/Comentários</th>\n",
              "      <th>Exemplo</th>\n",
              "    </tr>\n",
              "  </thead>\n",
              "  <tbody>\n",
              "    <tr>\n",
              "      <th>4</th>\n",
              "      <td>WO2017167772-A1;  CN108779049-A;  KR2018132650...</td>\n",
              "      <td>Continuous hydrogenation of carboxylic acid us...</td>\n",
              "      <td>PINKOS R;  RITTINGER S;  NUEBLING C;  ABILLARD O</td>\n",
              "      <td>BASF SE (BADI-C);  BASF SE (BADI-C);  BASF SE ...</td>\n",
              "      <td>2017</td>\n",
              "      <td>WO2017167772-A1    WOEP057350    29 Mar 2017; ...</td>\n",
              "      <td>NaN</td>\n",
              "      <td>Active (US, EP)</td>\n",
              "      <td>Water + Alcohol</td>\n",
              "      <td>Fase Líquida</td>\n",
              "      <td>Pd-Re</td>\n",
              "      <td>Pd-Re</td>\n",
              "      <td>Fixed Bed</td>\n",
              "      <td>NaN</td>\n",
              "      <td>150-240C</td>\n",
              "      <td>150.0</td>\n",
              "      <td>195.0</td>\n",
              "      <td>240.0</td>\n",
              "      <td>20-28bar</td>\n",
              "      <td>20.0</td>\n",
              "      <td>NaN</td>\n",
              "      <td>28.0</td>\n",
              "      <td>NaN</td>\n",
              "      <td>NaN</td>\n",
              "      <td>NaN</td>\n",
              "      <td>NaN</td>\n",
              "      <td>NaN</td>\n",
              "      <td>NaN</td>\n",
              "      <td>1-10h^-1</td>\n",
              "      <td>NaN</td>\n",
              "      <td>SA</td>\n",
              "      <td>SA</td>\n",
              "      <td>Ácido</td>\n",
              "      <td>NaN</td>\n",
              "      <td>BASF</td>\n",
              "      <td>Germany</td>\n",
              "      <td>Processo envolve uma préhidrogenação pra depoi...</td>\n",
              "      <td>NaN</td>\n",
              "    </tr>\n",
              "    <tr>\n",
              "      <th>5</th>\n",
              "      <td>WO2016110556-A1;  CN107108538-A;  KR2017102530...</td>\n",
              "      <td>Production of tetrahydrofuran, 1,4-butanediol ...</td>\n",
              "      <td>DUEFERT A;  PINKOS R;  WEISSKER W;  WEISKER W;...</td>\n",
              "      <td>BASF SE (BADI-C);  BASF SE (BADI-C);  BASF SE ...</td>\n",
              "      <td>2016</td>\n",
              "      <td>WO2016110556-A1    WOEP050245    08 Jan 2016; ...</td>\n",
              "      <td>NaN</td>\n",
              "      <td>Active (EP, JP, CN, ES, US)</td>\n",
              "      <td>NaN</td>\n",
              "      <td>Fase Gasosa</td>\n",
              "      <td>Ru; Re; Co; Cu</td>\n",
              "      <td>Co; Cu; Re; Ru</td>\n",
              "      <td>Shaft; Shell; Tube; Fluidized Bed</td>\n",
              "      <td>NaN</td>\n",
              "      <td>200-300C</td>\n",
              "      <td>200.0</td>\n",
              "      <td>250.0</td>\n",
              "      <td>300.0</td>\n",
              "      <td>5-20bar</td>\n",
              "      <td>5.0</td>\n",
              "      <td>NaN</td>\n",
              "      <td>20.0</td>\n",
              "      <td>0.9</td>\n",
              "      <td>0.9</td>\n",
              "      <td>NaN</td>\n",
              "      <td>NaN</td>\n",
              "      <td>Contínuo</td>\n",
              "      <td>Contínuo</td>\n",
              "      <td>100h</td>\n",
              "      <td>0.2</td>\n",
              "      <td>SA/Fermentação</td>\n",
              "      <td>SA/Fermentation</td>\n",
              "      <td>Ácido</td>\n",
              "      <td>Bio</td>\n",
              "      <td>BASF</td>\n",
              "      <td>Germany</td>\n",
              "      <td>O propósito deles é contornar os problemas cau...</td>\n",
              "      <td>NaN</td>\n",
              "    </tr>\n",
              "    <tr>\n",
              "      <th>14</th>\n",
              "      <td>WO2003104175-A1;  DE10225929-A1;  AU2003242665...</td>\n",
              "      <td>Production of optionally alkyl-substituted but...</td>\n",
              "      <td>HESSE M;  SCHLITTER S;  BORCHERT H;  SCHUBERT ...</td>\n",
              "      <td>BASF AG (BADI-C);  BASF AG (BADI-C);  BASF AG ...</td>\n",
              "      <td>2004</td>\n",
              "      <td>WO2003104175-A1    WOEP06100    11 Jun 2003;  ...</td>\n",
              "      <td>Withdrawn; Abandoned; Pending</td>\n",
              "      <td>Inactive</td>\n",
              "      <td>NaN</td>\n",
              "      <td>Fase Gasosa</td>\n",
              "      <td>CuO/Support</td>\n",
              "      <td>Cu</td>\n",
              "      <td>Tubular reactors; shaft reactors; tube bundle ...</td>\n",
              "      <td>NaN</td>\n",
              "      <td>235-270C; 180-200C</td>\n",
              "      <td>NaN</td>\n",
              "      <td>NaN</td>\n",
              "      <td>NaN</td>\n",
              "      <td>5-15bar; 50-70bar</td>\n",
              "      <td>NaN</td>\n",
              "      <td>NaN</td>\n",
              "      <td>NaN</td>\n",
              "      <td>NaN</td>\n",
              "      <td>NaN</td>\n",
              "      <td>NaN</td>\n",
              "      <td>NaN</td>\n",
              "      <td>Ambos</td>\n",
              "      <td>Batelada ou Contínuo</td>\n",
              "      <td>NaN</td>\n",
              "      <td>NaN</td>\n",
              "      <td>Anidrido Maleico</td>\n",
              "      <td>Anidrido Maleico</td>\n",
              "      <td>Anidrido</td>\n",
              "      <td>NaN</td>\n",
              "      <td>BASF</td>\n",
              "      <td>Germany</td>\n",
              "      <td>2 zonas de hidrogenação. \"SA contributes subst...</td>\n",
              "      <td>NaN</td>\n",
              "    </tr>\n",
              "    <tr>\n",
              "      <th>25</th>\n",
              "      <td>DE19720657-A1;  WO9852891-A1;  EP983219-A2;  C...</td>\n",
              "      <td>Aliphatic alcohol, di:ol or lactone preparatio...</td>\n",
              "      <td>FISCHER R;  PINKOS R;  WULFF-DOERING J</td>\n",
              "      <td>BASF AG (BADI-C);  BASF AG (BADI-C);  BASF AG ...</td>\n",
              "      <td>1999</td>\n",
              "      <td>DE19720657-A1    DE1020657    16 May 1997;   W...</td>\n",
              "      <td>Expired - Lifetime</td>\n",
              "      <td>Inactive</td>\n",
              "      <td>NaN</td>\n",
              "      <td>NaN</td>\n",
              "      <td>Pd-Ag-Re</td>\n",
              "      <td>Ag-Pd-Re</td>\n",
              "      <td>NaN</td>\n",
              "      <td>NaN</td>\n",
              "      <td>140C</td>\n",
              "      <td>NaN</td>\n",
              "      <td>140.0</td>\n",
              "      <td>NaN</td>\n",
              "      <td>1-80bar; 100-300bar</td>\n",
              "      <td>NaN</td>\n",
              "      <td>NaN</td>\n",
              "      <td>NaN</td>\n",
              "      <td>0.7</td>\n",
              "      <td>0.7</td>\n",
              "      <td>NaN</td>\n",
              "      <td>NaN</td>\n",
              "      <td>NaN</td>\n",
              "      <td>NaN</td>\n",
              "      <td>2h</td>\n",
              "      <td>NaN</td>\n",
              "      <td>Acido Maleico</td>\n",
              "      <td>Acido Maleico</td>\n",
              "      <td>Ácido</td>\n",
              "      <td>NaN</td>\n",
              "      <td>BASF</td>\n",
              "      <td>Germany</td>\n",
              "      <td>NaN</td>\n",
              "      <td>\"Maleic acid was hydrogenated at 140 DEG C. as...</td>\n",
              "    </tr>\n",
              "    <tr>\n",
              "      <th>35</th>\n",
              "      <td>EP447963-A;  DE4009029-A;  CA2038710-A;  US507...</td>\n",
              "      <td>Cobalt-catalysed 1,4-butane:diol prepn. - comp...</td>\n",
              "      <td>STABEL U;  GOSCH H J;  FISCHER R;  HARDER W;  ...</td>\n",
              "      <td>BASF AG (BADI-C);  STABEL U (STAB-Individual);...</td>\n",
              "      <td>1991</td>\n",
              "      <td>EP447963-A    EP103924    14 Mar 1991;   DE400...</td>\n",
              "      <td>Expired - Lifetime</td>\n",
              "      <td>Inactive</td>\n",
              "      <td>NaN</td>\n",
              "      <td>Fase Líquida; Fase Gasosa; Fase Mista</td>\n",
              "      <td>Co-Mn-Mo-Na</td>\n",
              "      <td>Co-Mn-Mo-Na</td>\n",
              "      <td>Fixed Bed</td>\n",
              "      <td>NaN</td>\n",
              "      <td>190C; 260C; 260C</td>\n",
              "      <td>NaN</td>\n",
              "      <td>NaN</td>\n",
              "      <td>NaN</td>\n",
              "      <td>100bar; 230bar; 260bar</td>\n",
              "      <td>NaN</td>\n",
              "      <td>NaN</td>\n",
              "      <td>NaN</td>\n",
              "      <td>68.9%</td>\n",
              "      <td>68.9%</td>\n",
              "      <td>NaN</td>\n",
              "      <td>NaN</td>\n",
              "      <td>Ambos</td>\n",
              "      <td>Batelada ou Contínuo</td>\n",
              "      <td>NaN</td>\n",
              "      <td>NaN</td>\n",
              "      <td>Acido Maleico</td>\n",
              "      <td>NaN</td>\n",
              "      <td>Ácido</td>\n",
              "      <td>NaN</td>\n",
              "      <td>BASF</td>\n",
              "      <td>US</td>\n",
              "      <td>diagrama de \"planta de hidrogenação\" interessa...</td>\n",
              "      <td>NaN</td>\n",
              "    </tr>\n",
              "    <tr>\n",
              "      <th>49</th>\n",
              "      <td>DE10014646-A1;  WO200170657-A2;  EP1272270-A2;...</td>\n",
              "      <td>Catalyst, useful for the hydrogenation of carb...</td>\n",
              "      <td>FISCHER R;  PINKOS R;  SCHUNK S;  WULFF-DOERIN...</td>\n",
              "      <td>BASF AG (BADI-C);  BASF AG (BADI-C);  BASF AG ...</td>\n",
              "      <td>2002</td>\n",
              "      <td>NaN</td>\n",
              "      <td>Expired; Ceased; Withdrawn</td>\n",
              "      <td>Inactive</td>\n",
              "      <td>NaN</td>\n",
              "      <td>Fase Gasosa</td>\n",
              "      <td>Re/AC</td>\n",
              "      <td>Re</td>\n",
              "      <td>Fixed Bed</td>\n",
              "      <td>NaN</td>\n",
              "      <td>174</td>\n",
              "      <td>NaN</td>\n",
              "      <td>174.0</td>\n",
              "      <td>NaN</td>\n",
              "      <td>220bar</td>\n",
              "      <td>NaN</td>\n",
              "      <td>220.0</td>\n",
              "      <td>NaN</td>\n",
              "      <td>NaN</td>\n",
              "      <td>NaN</td>\n",
              "      <td>0.96</td>\n",
              "      <td>NaN</td>\n",
              "      <td>Batelada</td>\n",
              "      <td>NaN</td>\n",
              "      <td>27h</td>\n",
              "      <td>5%wt maleic acid</td>\n",
              "      <td>Ácido Maleico</td>\n",
              "      <td>NaN</td>\n",
              "      <td>Ácido</td>\n",
              "      <td>NaN</td>\n",
              "      <td>BASF</td>\n",
              "      <td>DE</td>\n",
              "      <td>Patente de catalisador. Sugerem que pode ser u...</td>\n",
              "      <td>NaN</td>\n",
              "    </tr>\n",
              "    <tr>\n",
              "      <th>50</th>\n",
              "      <td>DE10009817-A1;  WO200164338-A1;  EP1261423-A1;...</td>\n",
              "      <td>Catalyst used in hydrogenation of carbonyl com...</td>\n",
              "      <td>FISCHER R H;  PINKOS R;  SCHUNK S A;  WULFF-DO...</td>\n",
              "      <td>BASF AG (BADI-C);  BASF AG (BADI-C);  BASF AG ...</td>\n",
              "      <td>2001</td>\n",
              "      <td>NaN</td>\n",
              "      <td>Expired; Ceased; Withdrawn</td>\n",
              "      <td>Inactive</td>\n",
              "      <td>NaN</td>\n",
              "      <td>NaN</td>\n",
              "      <td>Re-Pt/AC</td>\n",
              "      <td>Pt-Re</td>\n",
              "      <td>Fixed Bed</td>\n",
              "      <td>25ml</td>\n",
              "      <td>155</td>\n",
              "      <td>NaN</td>\n",
              "      <td>155.0</td>\n",
              "      <td>NaN</td>\n",
              "      <td>20bar</td>\n",
              "      <td>NaN</td>\n",
              "      <td>20.0</td>\n",
              "      <td>NaN</td>\n",
              "      <td>NaN</td>\n",
              "      <td>NaN</td>\n",
              "      <td>0.94</td>\n",
              "      <td>NaN</td>\n",
              "      <td>NaN</td>\n",
              "      <td>NaN</td>\n",
              "      <td>78h</td>\n",
              "      <td>30%wt maleic acid</td>\n",
              "      <td>Ácido Maleico</td>\n",
              "      <td>NaN</td>\n",
              "      <td>Ácido</td>\n",
              "      <td>NaN</td>\n",
              "      <td>BASF</td>\n",
              "      <td>DE</td>\n",
              "      <td>Diferente o suficiente da 99, por mais que apa...</td>\n",
              "      <td>NaN</td>\n",
              "    </tr>\n",
              "    <tr>\n",
              "      <th>59</th>\n",
              "      <td>DE3423447-A;  EP169396-A;  JP61015851-A;  US45...</td>\n",
              "      <td>Butane-diol prepn. by catalytic hydrogenation ...</td>\n",
              "      <td>SCHNABEL R;  WEITZ H M</td>\n",
              "      <td>BASF AG (BADI-C)</td>\n",
              "      <td>1986</td>\n",
              "      <td>NaN</td>\n",
              "      <td>Expired</td>\n",
              "      <td>Inactive</td>\n",
              "      <td>NaN</td>\n",
              "      <td>Fase Líquida</td>\n",
              "      <td>Cu/SiO2</td>\n",
              "      <td>Cu</td>\n",
              "      <td>Tubular</td>\n",
              "      <td>NaN</td>\n",
              "      <td>180</td>\n",
              "      <td>NaN</td>\n",
              "      <td>180.0</td>\n",
              "      <td>NaN</td>\n",
              "      <td>250bar</td>\n",
              "      <td>NaN</td>\n",
              "      <td>250.0</td>\n",
              "      <td>NaN</td>\n",
              "      <td>NaN</td>\n",
              "      <td>NaN</td>\n",
              "      <td>0.3</td>\n",
              "      <td>NaN</td>\n",
              "      <td>Contínuo</td>\n",
              "      <td>NaN</td>\n",
              "      <td>NaN</td>\n",
              "      <td>NaN</td>\n",
              "      <td>DBS</td>\n",
              "      <td>NaN</td>\n",
              "      <td>Éster</td>\n",
              "      <td>NaN</td>\n",
              "      <td>BASF</td>\n",
              "      <td>DE</td>\n",
              "      <td>Produz muito butanol e pouco BDO. Fica recicla...</td>\n",
              "      <td>NaN</td>\n",
              "    </tr>\n",
              "  </tbody>\n",
              "</table>\n",
              "</div>"
            ],
            "text/plain": [
              "                                        Patent Number  ...                                            Exemplo\n",
              "4   WO2017167772-A1;  CN108779049-A;  KR2018132650...  ...                                                NaN\n",
              "5   WO2016110556-A1;  CN107108538-A;  KR2017102530...  ...                                                NaN\n",
              "14  WO2003104175-A1;  DE10225929-A1;  AU2003242665...  ...                                                NaN\n",
              "25  DE19720657-A1;  WO9852891-A1;  EP983219-A2;  C...  ...  \"Maleic acid was hydrogenated at 140 DEG C. as...\n",
              "35  EP447963-A;  DE4009029-A;  CA2038710-A;  US507...  ...                                                NaN\n",
              "49  DE10014646-A1;  WO200170657-A2;  EP1272270-A2;...  ...                                                NaN\n",
              "50  DE10009817-A1;  WO200164338-A1;  EP1261423-A1;...  ...                                                NaN\n",
              "59  DE3423447-A;  EP169396-A;  JP61015851-A;  US45...  ...                                                NaN\n",
              "\n",
              "[8 rows x 38 columns]"
            ]
          },
          "metadata": {},
          "execution_count": 45
        }
      ]
    },
    {
      "cell_type": "code",
      "metadata": {
        "id": "0j27G0gnFIRz",
        "colab": {
          "base_uri": "https://localhost:8080/",
          "height": 878
        },
        "outputId": "edaa1731-da25-4142-d2d9-3cb376288a74"
      },
      "source": [
        "davy = df[df['Empresa (Simplificado)'] == 'DAVY MCKEE']\n",
        "davy"
      ],
      "execution_count": null,
      "outputs": [
        {
          "output_type": "execute_result",
          "data": {
            "text/html": [
              "<div>\n",
              "<style scoped>\n",
              "    .dataframe tbody tr th:only-of-type {\n",
              "        vertical-align: middle;\n",
              "    }\n",
              "\n",
              "    .dataframe tbody tr th {\n",
              "        vertical-align: top;\n",
              "    }\n",
              "\n",
              "    .dataframe thead th {\n",
              "        text-align: right;\n",
              "    }\n",
              "</style>\n",
              "<table border=\"1\" class=\"dataframe\">\n",
              "  <thead>\n",
              "    <tr style=\"text-align: right;\">\n",
              "      <th></th>\n",
              "      <th>Patent Number</th>\n",
              "      <th>Patent Title/INPI Reaction</th>\n",
              "      <th>Authors/Inventors</th>\n",
              "      <th>Empresa</th>\n",
              "      <th>Ano</th>\n",
              "      <th>Aplicacoes</th>\n",
              "      <th>Status (Desc.)</th>\n",
              "      <th>Status (A/I)</th>\n",
              "      <th>Solvente</th>\n",
              "      <th>Tipo de Catálise</th>\n",
              "      <th>Catalisador</th>\n",
              "      <th>Tipo de Catalisador</th>\n",
              "      <th>Tipo de Reator</th>\n",
              "      <th>Volume do Reator</th>\n",
              "      <th>Temperatura</th>\n",
              "      <th>Temperatura Min (C)</th>\n",
              "      <th>Temperatura Med (C)</th>\n",
              "      <th>Temperatura Max (C)</th>\n",
              "      <th>Pressão</th>\n",
              "      <th>Pressão Min (bar)</th>\n",
              "      <th>Presso Med (bar)</th>\n",
              "      <th>Pressão Max (bar)</th>\n",
              "      <th>Rendimento</th>\n",
              "      <th>Rendimento (%)</th>\n",
              "      <th>Seletividade</th>\n",
              "      <th>Seletividade (%)</th>\n",
              "      <th>Regime (Bat./Cont.)</th>\n",
              "      <th>Regime</th>\n",
              "      <th>Tempo de Batelada/Residência</th>\n",
              "      <th>Quantidade SA</th>\n",
              "      <th>MP</th>\n",
              "      <th>Novo MP</th>\n",
              "      <th>acido/ester</th>\n",
              "      <th>Fonte SA (Bio/Petro)</th>\n",
              "      <th>Empresa (Simplificado)</th>\n",
              "      <th>País de Aplicação</th>\n",
              "      <th>Observações/Comentários</th>\n",
              "      <th>Exemplo</th>\n",
              "    </tr>\n",
              "  </thead>\n",
              "  <tbody>\n",
              "    <tr>\n",
              "      <th>9</th>\n",
              "      <td>WO2013034881-A1;  TW201311626-A;  AU2012306139...</td>\n",
              "      <td>Purifying a stream comprising 1,4-butanediol c...</td>\n",
              "      <td>REED G;  GORDON P</td>\n",
              "      <td>DAVY PROCESS TECHNOLOGY LTD (POGC-C);  JOHNSON...</td>\n",
              "      <td>2013</td>\n",
              "      <td>WO2013034881-A1    WOGB052048    21 Aug 2012; ...</td>\n",
              "      <td>NaN</td>\n",
              "      <td>Active (US, EP, CN, ES, KR, CA)</td>\n",
              "      <td>NaN</td>\n",
              "      <td>NaN</td>\n",
              "      <td>Group VIII/Support (Re, Ru, Pd)/C</td>\n",
              "      <td>Pd; Re; Ru</td>\n",
              "      <td>Fixed Bed</td>\n",
              "      <td>NaN</td>\n",
              "      <td>50-125C</td>\n",
              "      <td>50.0</td>\n",
              "      <td>87.5</td>\n",
              "      <td>125.0</td>\n",
              "      <td>10.34-68.95bar</td>\n",
              "      <td>10.34</td>\n",
              "      <td>NaN</td>\n",
              "      <td>68.95</td>\n",
              "      <td>NaN</td>\n",
              "      <td>NaN</td>\n",
              "      <td>NaN</td>\n",
              "      <td>NaN</td>\n",
              "      <td>Contínuo</td>\n",
              "      <td>Contínuo</td>\n",
              "      <td>0.5-1.5h^-1</td>\n",
              "      <td>NaN</td>\n",
              "      <td>dimethyl maleate</td>\n",
              "      <td>Dimethyl Maleate</td>\n",
              "      <td>Éster</td>\n",
              "      <td>NaN</td>\n",
              "      <td>DAVY MCKEE</td>\n",
              "      <td>GB</td>\n",
              "      <td>Patente de purificação de BDO da Davy Mckee. F...</td>\n",
              "      <td>NaN</td>\n",
              "    </tr>\n",
              "    <tr>\n",
              "      <th>38</th>\n",
              "      <td>BE892958-A;  WO8203854-A;  NO8204396-A;  ZA820...</td>\n",
              "      <td>Hydrogenolysis of carboxylic acid ester to alc...</td>\n",
              "      <td>BRADLEY M W;  HARRIS N;  TURNER K</td>\n",
              "      <td>DAVY MCKEE OIL &amp; CHEM LTD (POGC-C);  BRADLEY M...</td>\n",
              "      <td>1982</td>\n",
              "      <td>WO8203854-A    WO000118    21 Apr 1982;   GB21...</td>\n",
              "      <td>REJECTION; CEASED</td>\n",
              "      <td>Inactive</td>\n",
              "      <td>NaN</td>\n",
              "      <td>Fase Gasosa</td>\n",
              "      <td>CuO-ZnO</td>\n",
              "      <td>Cu</td>\n",
              "      <td>Elongated Tubular reactor</td>\n",
              "      <td>NaN</td>\n",
              "      <td>180-240C</td>\n",
              "      <td>180.0</td>\n",
              "      <td>210.0</td>\n",
              "      <td>240.0</td>\n",
              "      <td>4.91-34.35bar</td>\n",
              "      <td>4.91</td>\n",
              "      <td>NaN</td>\n",
              "      <td>34.35</td>\n",
              "      <td>NaN</td>\n",
              "      <td>NaN</td>\n",
              "      <td>NaN</td>\n",
              "      <td>NaN</td>\n",
              "      <td>Ambos</td>\n",
              "      <td>Batelada ou Contínuo</td>\n",
              "      <td>NaN</td>\n",
              "      <td>NaN</td>\n",
              "      <td>Carboxylic acid esters</td>\n",
              "      <td>NaN</td>\n",
              "      <td>Éster</td>\n",
              "      <td>NaN</td>\n",
              "      <td>DAVY MCKEE</td>\n",
              "      <td>GB</td>\n",
              "      <td>\"Copper chromite catalysts are environmentally...</td>\n",
              "      <td>NaN</td>\n",
              "    </tr>\n",
              "    <tr>\n",
              "      <th>39</th>\n",
              "      <td>US4751334-A</td>\n",
              "      <td>Process for the production of butane-1,4-diol</td>\n",
              "      <td>NaN</td>\n",
              "      <td>DAVY MCKEE</td>\n",
              "      <td>1988</td>\n",
              "      <td>NaN</td>\n",
              "      <td>LAPSED DUE TO FAILURE TO PAY MAINTENANCE FEE (...</td>\n",
              "      <td>Inactive</td>\n",
              "      <td>NaN</td>\n",
              "      <td>Fase Gasosa</td>\n",
              "      <td>Reduced Copper Chromite</td>\n",
              "      <td>Cu; Cu-Cr</td>\n",
              "      <td>Fixed Bed</td>\n",
              "      <td>NaN</td>\n",
              "      <td>170-190C</td>\n",
              "      <td>170.0</td>\n",
              "      <td>180.0</td>\n",
              "      <td>190.0</td>\n",
              "      <td>35-45bar</td>\n",
              "      <td>35.00</td>\n",
              "      <td>NaN</td>\n",
              "      <td>45.00</td>\n",
              "      <td>0.793</td>\n",
              "      <td>0.79</td>\n",
              "      <td>NaN</td>\n",
              "      <td>NaN</td>\n",
              "      <td>Contínuo</td>\n",
              "      <td>Contínuo</td>\n",
              "      <td>0.45h-1</td>\n",
              "      <td>NaN</td>\n",
              "      <td>Dialkyl maleate</td>\n",
              "      <td>NaN</td>\n",
              "      <td>Éster</td>\n",
              "      <td>NaN</td>\n",
              "      <td>DAVY MCKEE</td>\n",
              "      <td>GB</td>\n",
              "      <td>NaN</td>\n",
              "      <td>NaN</td>\n",
              "    </tr>\n",
              "    <tr>\n",
              "      <th>40</th>\n",
              "      <td>US4584419-A</td>\n",
              "      <td>Process for the production of butane-1,4-diol</td>\n",
              "      <td>NaN</td>\n",
              "      <td>DAVY MCKEE</td>\n",
              "      <td>1986</td>\n",
              "      <td>NaN</td>\n",
              "      <td>LAPSED DUE TO FAILURE TO PAY MAINTENANCE FEE (...</td>\n",
              "      <td>Inactive</td>\n",
              "      <td>NaN</td>\n",
              "      <td>Fase Gasosa</td>\n",
              "      <td>Reduced Copper Chromite</td>\n",
              "      <td>Cu; Cu-Cr</td>\n",
              "      <td>Tubular</td>\n",
              "      <td>NaN</td>\n",
              "      <td>170-190C</td>\n",
              "      <td>170.0</td>\n",
              "      <td>180.0</td>\n",
              "      <td>190.0</td>\n",
              "      <td>35-45bar</td>\n",
              "      <td>35.00</td>\n",
              "      <td>NaN</td>\n",
              "      <td>45.00</td>\n",
              "      <td>0.841</td>\n",
              "      <td>0.84</td>\n",
              "      <td>NaN</td>\n",
              "      <td>NaN</td>\n",
              "      <td>NaN</td>\n",
              "      <td>NaN</td>\n",
              "      <td>NaN</td>\n",
              "      <td>NaN</td>\n",
              "      <td>Diethyl maleate</td>\n",
              "      <td>NaN</td>\n",
              "      <td>Éster</td>\n",
              "      <td>NaN</td>\n",
              "      <td>DAVY MCKEE</td>\n",
              "      <td>GB</td>\n",
              "      <td>\"at least 2 hydrogenolysis zones in sequence\"</td>\n",
              "      <td>NaN</td>\n",
              "    </tr>\n",
              "    <tr>\n",
              "      <th>48</th>\n",
              "      <td>WO2005058855-A1;  NO200603214-A;  EP1694661-A1...</td>\n",
              "      <td>Preparation of ether and optionally diol and/o...</td>\n",
              "      <td>BACKES A F;  HILES A G;  SUTTON D M;  BACKES A...</td>\n",
              "      <td>DAVY PROCESS TECHNOLOGY LTD (POGC-C);  DAVY PR...</td>\n",
              "      <td>2005</td>\n",
              "      <td>NaN</td>\n",
              "      <td>Ativa em alguns países, em outros IP rights ce...</td>\n",
              "      <td>Active</td>\n",
              "      <td>NaN</td>\n",
              "      <td>Fase Gasosa</td>\n",
              "      <td>Cu containing with support</td>\n",
              "      <td>Cu</td>\n",
              "      <td>NaN</td>\n",
              "      <td>NaN</td>\n",
              "      <td>40-200</td>\n",
              "      <td>40.0</td>\n",
              "      <td>120.0</td>\n",
              "      <td>200.0</td>\n",
              "      <td>5-100bar</td>\n",
              "      <td>5.00</td>\n",
              "      <td>NaN</td>\n",
              "      <td>100.00</td>\n",
              "      <td>NaN</td>\n",
              "      <td>NaN</td>\n",
              "      <td>NaN</td>\n",
              "      <td>NaN</td>\n",
              "      <td>Contínuo</td>\n",
              "      <td>NaN</td>\n",
              "      <td>0.05-20h^-1</td>\n",
              "      <td>NaN</td>\n",
              "      <td>DMS</td>\n",
              "      <td>NaN</td>\n",
              "      <td>Éster</td>\n",
              "      <td>NaN</td>\n",
              "      <td>DAVY MCKEE</td>\n",
              "      <td>NaN</td>\n",
              "      <td>Patente Davy. Boa. Partem do maleato e a prime...</td>\n",
              "      <td>One conventional process for the production of...</td>\n",
              "    </tr>\n",
              "    <tr>\n",
              "      <th>51</th>\n",
              "      <td>EP1108702-A1;  WO200144148-A1;  AU200121958-A;...</td>\n",
              "      <td>Co-production of diol product and cyclic ether...</td>\n",
              "      <td>WOOD M A;  WILLETT P;  WILD R;  COLLEY S W;  W...</td>\n",
              "      <td>KVAERNER PROCESS TECHNOLOGY LTD (KVAE-Non-stan...</td>\n",
              "      <td>2001</td>\n",
              "      <td>NaN</td>\n",
              "      <td>Expired; Ceased; Withdrawn</td>\n",
              "      <td>Inactive</td>\n",
              "      <td>NaN</td>\n",
              "      <td>NaN</td>\n",
              "      <td>PG85/1 (CuO-Cr); DRD92/89A (Cu);  DRD92/89B (Cu)</td>\n",
              "      <td>Cu</td>\n",
              "      <td>Column Reactor</td>\n",
              "      <td>NaN</td>\n",
              "      <td>180</td>\n",
              "      <td>NaN</td>\n",
              "      <td>180.0</td>\n",
              "      <td>NaN</td>\n",
              "      <td>61bar</td>\n",
              "      <td>NaN</td>\n",
              "      <td>61.0</td>\n",
              "      <td>NaN</td>\n",
              "      <td>NaN</td>\n",
              "      <td>NaN</td>\n",
              "      <td>0.83</td>\n",
              "      <td>NaN</td>\n",
              "      <td>NaN</td>\n",
              "      <td>NaN</td>\n",
              "      <td>0.5h^-1</td>\n",
              "      <td>NaN</td>\n",
              "      <td>DES</td>\n",
              "      <td>NaN</td>\n",
              "      <td>Éster</td>\n",
              "      <td>NaN</td>\n",
              "      <td>DAVY MCKEE</td>\n",
              "      <td>UK</td>\n",
              "      <td>Valores dos exemplos são exatos, não faixas. C...</td>\n",
              "      <td>NaN</td>\n",
              "    </tr>\n",
              "    <tr>\n",
              "      <th>56</th>\n",
              "      <td>WO9101960-A;  EP491714-A1;  JP4507411-W</td>\n",
              "      <td>Butane-diol prepn. from carboxylic acids or an...</td>\n",
              "      <td>HILES A G;  TUCK M W;  TUCK M W M</td>\n",
              "      <td>DAVY MCKEE LONDON L (POGC-C);  DAVY MCKEE LTD ...</td>\n",
              "      <td>1991</td>\n",
              "      <td>NaN</td>\n",
              "      <td>Withdrawn</td>\n",
              "      <td>Inactive</td>\n",
              "      <td>NaN</td>\n",
              "      <td>Fase Líquida; Fase Gasosa</td>\n",
              "      <td>Copper chromite</td>\n",
              "      <td>Cu</td>\n",
              "      <td>NaN</td>\n",
              "      <td>NaN</td>\n",
              "      <td>150-240</td>\n",
              "      <td>150.0</td>\n",
              "      <td>195.0</td>\n",
              "      <td>240.0</td>\n",
              "      <td>25-75bar</td>\n",
              "      <td>25.00</td>\n",
              "      <td>NaN</td>\n",
              "      <td>75.00</td>\n",
              "      <td>NaN</td>\n",
              "      <td>NaN</td>\n",
              "      <td>NaN</td>\n",
              "      <td>NaN</td>\n",
              "      <td>Contínuo</td>\n",
              "      <td>NaN</td>\n",
              "      <td>NaN</td>\n",
              "      <td>NaN</td>\n",
              "      <td>NaN</td>\n",
              "      <td>NaN</td>\n",
              "      <td>NaN</td>\n",
              "      <td>NaN</td>\n",
              "      <td>DAVY MCKEE</td>\n",
              "      <td>EP</td>\n",
              "      <td>Processo DAVY que esterifica (com etanol) e de...</td>\n",
              "      <td>NaN</td>\n",
              "    </tr>\n",
              "  </tbody>\n",
              "</table>\n",
              "</div>"
            ],
            "text/plain": [
              "                                        Patent Number  ...                                            Exemplo\n",
              "9   WO2013034881-A1;  TW201311626-A;  AU2012306139...  ...                                                NaN\n",
              "38  BE892958-A;  WO8203854-A;  NO8204396-A;  ZA820...  ...                                                NaN\n",
              "39                                        US4751334-A  ...                                                NaN\n",
              "40                                        US4584419-A  ...                                                NaN\n",
              "48  WO2005058855-A1;  NO200603214-A;  EP1694661-A1...  ...  One conventional process for the production of...\n",
              "51  EP1108702-A1;  WO200144148-A1;  AU200121958-A;...  ...                                                NaN\n",
              "56            WO9101960-A;  EP491714-A1;  JP4507411-W  ...                                                NaN\n",
              "\n",
              "[7 rows x 38 columns]"
            ]
          },
          "metadata": {},
          "execution_count": 46
        }
      ]
    },
    {
      "cell_type": "code",
      "metadata": {
        "id": "tUUACFbfJ-SB",
        "colab": {
          "base_uri": "https://localhost:8080/",
          "height": 709
        },
        "outputId": "83305a57-6cc5-42d3-e13e-2a1ead2a4d1e"
      },
      "source": [
        "mitsubishi = df[df['Empresa (Simplificado)'] == 'MITSUBISHI']\n",
        "mitsubishi"
      ],
      "execution_count": null,
      "outputs": [
        {
          "output_type": "execute_result",
          "data": {
            "text/html": [
              "<div>\n",
              "<style scoped>\n",
              "    .dataframe tbody tr th:only-of-type {\n",
              "        vertical-align: middle;\n",
              "    }\n",
              "\n",
              "    .dataframe tbody tr th {\n",
              "        vertical-align: top;\n",
              "    }\n",
              "\n",
              "    .dataframe thead th {\n",
              "        text-align: right;\n",
              "    }\n",
              "</style>\n",
              "<table border=\"1\" class=\"dataframe\">\n",
              "  <thead>\n",
              "    <tr style=\"text-align: right;\">\n",
              "      <th></th>\n",
              "      <th>Patent Number</th>\n",
              "      <th>Patent Title/INPI Reaction</th>\n",
              "      <th>Authors/Inventors</th>\n",
              "      <th>Empresa</th>\n",
              "      <th>Ano</th>\n",
              "      <th>Aplicacoes</th>\n",
              "      <th>Status (Desc.)</th>\n",
              "      <th>Status (A/I)</th>\n",
              "      <th>Solvente</th>\n",
              "      <th>Tipo de Catálise</th>\n",
              "      <th>Catalisador</th>\n",
              "      <th>Tipo de Catalisador</th>\n",
              "      <th>Tipo de Reator</th>\n",
              "      <th>Volume do Reator</th>\n",
              "      <th>Temperatura</th>\n",
              "      <th>Temperatura Min (C)</th>\n",
              "      <th>Temperatura Med (C)</th>\n",
              "      <th>Temperatura Max (C)</th>\n",
              "      <th>Pressão</th>\n",
              "      <th>Pressão Min (bar)</th>\n",
              "      <th>Presso Med (bar)</th>\n",
              "      <th>Pressão Max (bar)</th>\n",
              "      <th>Rendimento</th>\n",
              "      <th>Rendimento (%)</th>\n",
              "      <th>Seletividade</th>\n",
              "      <th>Seletividade (%)</th>\n",
              "      <th>Regime (Bat./Cont.)</th>\n",
              "      <th>Regime</th>\n",
              "      <th>Tempo de Batelada/Residência</th>\n",
              "      <th>Quantidade SA</th>\n",
              "      <th>MP</th>\n",
              "      <th>Novo MP</th>\n",
              "      <th>acido/ester</th>\n",
              "      <th>Fonte SA (Bio/Petro)</th>\n",
              "      <th>Empresa (Simplificado)</th>\n",
              "      <th>País de Aplicação</th>\n",
              "      <th>Observações/Comentários</th>\n",
              "      <th>Exemplo</th>\n",
              "    </tr>\n",
              "  </thead>\n",
              "  <tbody>\n",
              "    <tr>\n",
              "      <th>28</th>\n",
              "      <td>JP9012492-A;  JP3744023-B2</td>\n",
              "      <td>Prepn. of 1,4-butane:diol and/or tetra:hydro:f...</td>\n",
              "      <td>NaN</td>\n",
              "      <td>MITSUBISHI CHEM CORP (MITU-C);  MITSUBISHI CHE...</td>\n",
              "      <td>1997</td>\n",
              "      <td>JP9012492-A    JP157892    23 Jun 1995;   JP37...</td>\n",
              "      <td>Expired - Fee Related</td>\n",
              "      <td>Inactive</td>\n",
              "      <td>NaN</td>\n",
              "      <td>Fase Líquida</td>\n",
              "      <td>Re-Sn</td>\n",
              "      <td>Re-Sn</td>\n",
              "      <td>Fixed Bed</td>\n",
              "      <td>200mL</td>\n",
              "      <td>160-300C</td>\n",
              "      <td>160.0</td>\n",
              "      <td>195.0</td>\n",
              "      <td>230.0</td>\n",
              "      <td>50-200bar</td>\n",
              "      <td>50.0</td>\n",
              "      <td>NaN</td>\n",
              "      <td>200.0</td>\n",
              "      <td>NaN</td>\n",
              "      <td>NaN</td>\n",
              "      <td>NaN</td>\n",
              "      <td>NaN</td>\n",
              "      <td>NaN</td>\n",
              "      <td>NaN</td>\n",
              "      <td>NaN</td>\n",
              "      <td>NaN</td>\n",
              "      <td>Anidrido Maleico</td>\n",
              "      <td>Anidrido Maleico</td>\n",
              "      <td>Anidrido</td>\n",
              "      <td>NaN</td>\n",
              "      <td>MITSUBISHI</td>\n",
              "      <td>Japan</td>\n",
              "      <td>Patente japonesa dificil de encontrar. Aprovad...</td>\n",
              "      <td>NaN</td>\n",
              "    </tr>\n",
              "    <tr>\n",
              "      <th>31</th>\n",
              "      <td>JP6239778-A;  JP3206183-B2</td>\n",
              "      <td>Prepn. of 1,4-butane:diol - by catalytic hydro...</td>\n",
              "      <td>HARA Y;  ENDOU H</td>\n",
              "      <td>MITSUBISHI KASEI CORP (MITU-C)</td>\n",
              "      <td>1994</td>\n",
              "      <td>JP6239778-A    JP028013    17 Feb 1993;   JP32...</td>\n",
              "      <td>NaN</td>\n",
              "      <td>NaN</td>\n",
              "      <td>NaN</td>\n",
              "      <td>Fase Líquida</td>\n",
              "      <td>Ru-Sn/SiO2</td>\n",
              "      <td>Ru-Sn</td>\n",
              "      <td>CSTR; Fixed Bed</td>\n",
              "      <td>70mL</td>\n",
              "      <td>160-300C</td>\n",
              "      <td>160.0</td>\n",
              "      <td>230.0</td>\n",
              "      <td>300.0</td>\n",
              "      <td>9.8-294.2bar</td>\n",
              "      <td>9.8</td>\n",
              "      <td>NaN</td>\n",
              "      <td>294.2</td>\n",
              "      <td>NaN</td>\n",
              "      <td>NaN</td>\n",
              "      <td>NaN</td>\n",
              "      <td>NaN</td>\n",
              "      <td>Batelada</td>\n",
              "      <td>Batelada</td>\n",
              "      <td>3h</td>\n",
              "      <td>NaN</td>\n",
              "      <td>Anidrido Maleico</td>\n",
              "      <td>Anidrido Maleico</td>\n",
              "      <td>Anidrido</td>\n",
              "      <td>NaN</td>\n",
              "      <td>MITSUBISHI</td>\n",
              "      <td>Japan</td>\n",
              "      <td>NaN</td>\n",
              "      <td>NaN</td>\n",
              "    </tr>\n",
              "    <tr>\n",
              "      <th>33</th>\n",
              "      <td>JP4217636-A;  JP2906706-B2</td>\n",
              "      <td>Prodn. of 1,4-butane:di:ol - by liq. phase hyd...</td>\n",
              "      <td>HARA Y;  NISHIMURA S;  INAGAKI H</td>\n",
              "      <td>MITSUBISHI KASEI CORP (MITU-C)</td>\n",
              "      <td>1992</td>\n",
              "      <td>JP4217636-A    JP057031    20 Mar 1991;   JP29...</td>\n",
              "      <td>Expired</td>\n",
              "      <td>Inactive</td>\n",
              "      <td>NaN</td>\n",
              "      <td>Fase Líquida</td>\n",
              "      <td>Ru</td>\n",
              "      <td>Ru</td>\n",
              "      <td>spinner-stirred micro autoclave</td>\n",
              "      <td>170mL</td>\n",
              "      <td>100-200C</td>\n",
              "      <td>100.0</td>\n",
              "      <td>150.0</td>\n",
              "      <td>200.0</td>\n",
              "      <td>1-150bar</td>\n",
              "      <td>1.0</td>\n",
              "      <td>NaN</td>\n",
              "      <td>150.0</td>\n",
              "      <td>NaN</td>\n",
              "      <td>NaN</td>\n",
              "      <td>NaN</td>\n",
              "      <td>NaN</td>\n",
              "      <td>Ambos</td>\n",
              "      <td>Batelada ou Contínuo</td>\n",
              "      <td>1-20h</td>\n",
              "      <td>NaN</td>\n",
              "      <td>GBL</td>\n",
              "      <td>NaN</td>\n",
              "      <td>NaN</td>\n",
              "      <td>NaN</td>\n",
              "      <td>MITSUBISHI</td>\n",
              "      <td>Japan</td>\n",
              "      <td>\"When succinic anhydride or succinic acid is u...</td>\n",
              "      <td>NaN</td>\n",
              "    </tr>\n",
              "    <tr>\n",
              "      <th>34</th>\n",
              "      <td>EP453948-A;  BR9101662-A;  US5077442-A;  JP421...</td>\n",
              "      <td>Butane:diol prodn. by liq. phase hydrogenation...</td>\n",
              "      <td>HARA Y;  INAGAKI H</td>\n",
              "      <td>MITSUBISHI KASEI CORP (MITU-C);  MITSUBISHI KA...</td>\n",
              "      <td>1991</td>\n",
              "      <td>EP453948-A    EP101616    17 Apr 1991;   US507...</td>\n",
              "      <td>Expired - Lifetime</td>\n",
              "      <td>Inactive</td>\n",
              "      <td>NaN</td>\n",
              "      <td>Fase Líquida</td>\n",
              "      <td>Ru orgânico (Composto)</td>\n",
              "      <td>0utro</td>\n",
              "      <td>SUS autoclave</td>\n",
              "      <td>200mL</td>\n",
              "      <td>100-200C</td>\n",
              "      <td>100.0</td>\n",
              "      <td>150.0</td>\n",
              "      <td>200.0</td>\n",
              "      <td>1-150bar</td>\n",
              "      <td>1.0</td>\n",
              "      <td>NaN</td>\n",
              "      <td>150.0</td>\n",
              "      <td>NaN</td>\n",
              "      <td>NaN</td>\n",
              "      <td>NaN</td>\n",
              "      <td>NaN</td>\n",
              "      <td>Ambos</td>\n",
              "      <td>Batelada ou Contínuo</td>\n",
              "      <td>1-20h</td>\n",
              "      <td>NaN</td>\n",
              "      <td>GBL</td>\n",
              "      <td>NaN</td>\n",
              "      <td>NaN</td>\n",
              "      <td>NaN</td>\n",
              "      <td>MITSUBISHI</td>\n",
              "      <td>Japan</td>\n",
              "      <td>Irmã da patente acima.</td>\n",
              "      <td>NaN</td>\n",
              "    </tr>\n",
              "    <tr>\n",
              "      <th>53</th>\n",
              "      <td>JP2001046874-A</td>\n",
              "      <td>Catalyst used for hydrogenation of carboxylic ...</td>\n",
              "      <td>HARA Y;  KUSAKA H</td>\n",
              "      <td>MITSUBISHI CHEM CO LTD (MITU-C)</td>\n",
              "      <td>2001</td>\n",
              "      <td>NaN</td>\n",
              "      <td>Pending</td>\n",
              "      <td>Inactive</td>\n",
              "      <td>Water; Alcohols</td>\n",
              "      <td>Fase Líquida; Fase Gasosa</td>\n",
              "      <td>Re-Ru;Pt;Rh-Co;Sn;Ni;Mn;Fe/Support</td>\n",
              "      <td>Re-Ru</td>\n",
              "      <td>NaN</td>\n",
              "      <td>70ml</td>\n",
              "      <td>NaN</td>\n",
              "      <td>NaN</td>\n",
              "      <td>NaN</td>\n",
              "      <td>NaN</td>\n",
              "      <td>110bar</td>\n",
              "      <td>NaN</td>\n",
              "      <td>110.0</td>\n",
              "      <td>NaN</td>\n",
              "      <td>NaN</td>\n",
              "      <td>NaN</td>\n",
              "      <td>NaN</td>\n",
              "      <td>NaN</td>\n",
              "      <td>Batelada</td>\n",
              "      <td>NaN</td>\n",
              "      <td>3h</td>\n",
              "      <td>20-60%wt maleic acid</td>\n",
              "      <td>Ácido Maleico</td>\n",
              "      <td>NaN</td>\n",
              "      <td>Ácido</td>\n",
              "      <td>NaN</td>\n",
              "      <td>MITSUBISHI</td>\n",
              "      <td>JP</td>\n",
              "      <td>Resultados em tabela em japonês. Usam maleic a...</td>\n",
              "      <td>NaN</td>\n",
              "    </tr>\n",
              "    <tr>\n",
              "      <th>57</th>\n",
              "      <td>JP2200648-A;  JP2611831-B2</td>\n",
              "      <td>1,4-butane:diol and/or tetra:hydro:furan prepn...</td>\n",
              "      <td>WADA H;  HARA Y</td>\n",
              "      <td>MITSUBISHI KASEI CORP (MITU-C)</td>\n",
              "      <td>1990</td>\n",
              "      <td>NaN</td>\n",
              "      <td>Expired - Lifetime</td>\n",
              "      <td>Inactive</td>\n",
              "      <td>NaN</td>\n",
              "      <td>Fase Líquida</td>\n",
              "      <td>Ru; Organic Phosphine</td>\n",
              "      <td>Ru</td>\n",
              "      <td>Autoclave</td>\n",
              "      <td>200ml</td>\n",
              "      <td>200</td>\n",
              "      <td>NaN</td>\n",
              "      <td>200.0</td>\n",
              "      <td>NaN</td>\n",
              "      <td>49bar</td>\n",
              "      <td>NaN</td>\n",
              "      <td>49.0</td>\n",
              "      <td>NaN</td>\n",
              "      <td>NaN</td>\n",
              "      <td>NaN</td>\n",
              "      <td>0.46</td>\n",
              "      <td>NaN</td>\n",
              "      <td>Batelada</td>\n",
              "      <td>NaN</td>\n",
              "      <td>6h</td>\n",
              "      <td>20g</td>\n",
              "      <td>Anidrido Succinico</td>\n",
              "      <td>NaN</td>\n",
              "      <td>Anidrido</td>\n",
              "      <td>NaN</td>\n",
              "      <td>MITSUBISHI</td>\n",
              "      <td>JP</td>\n",
              "      <td>Alimentaram anidrido succinico. Resultado ruim...</td>\n",
              "      <td>NaN</td>\n",
              "    </tr>\n",
              "  </tbody>\n",
              "</table>\n",
              "</div>"
            ],
            "text/plain": [
              "                                        Patent Number  ... Exemplo\n",
              "28                         JP9012492-A;  JP3744023-B2  ...     NaN\n",
              "31                         JP6239778-A;  JP3206183-B2  ...     NaN\n",
              "33                         JP4217636-A;  JP2906706-B2  ...     NaN\n",
              "34  EP453948-A;  BR9101662-A;  US5077442-A;  JP421...  ...     NaN\n",
              "53                                     JP2001046874-A  ...     NaN\n",
              "57                         JP2200648-A;  JP2611831-B2  ...     NaN\n",
              "\n",
              "[6 rows x 38 columns]"
            ]
          },
          "metadata": {},
          "execution_count": 47
        }
      ]
    },
    {
      "cell_type": "code",
      "metadata": {
        "id": "GSqwMLtxNOJD",
        "colab": {
          "base_uri": "https://localhost:8080/",
          "height": 632
        },
        "outputId": "beb4b1e0-d542-41e5-b2b2-f77280bce0a0"
      },
      "source": [
        "asahi = df[df['Empresa (Simplificado)'] == 'ASAHI KASEI']\n",
        "asahi"
      ],
      "execution_count": null,
      "outputs": [
        {
          "output_type": "execute_result",
          "data": {
            "text/html": [
              "<div>\n",
              "<style scoped>\n",
              "    .dataframe tbody tr th:only-of-type {\n",
              "        vertical-align: middle;\n",
              "    }\n",
              "\n",
              "    .dataframe tbody tr th {\n",
              "        vertical-align: top;\n",
              "    }\n",
              "\n",
              "    .dataframe thead th {\n",
              "        text-align: right;\n",
              "    }\n",
              "</style>\n",
              "<table border=\"1\" class=\"dataframe\">\n",
              "  <thead>\n",
              "    <tr style=\"text-align: right;\">\n",
              "      <th></th>\n",
              "      <th>Patent Number</th>\n",
              "      <th>Patent Title/INPI Reaction</th>\n",
              "      <th>Authors/Inventors</th>\n",
              "      <th>Empresa</th>\n",
              "      <th>Ano</th>\n",
              "      <th>Aplicacoes</th>\n",
              "      <th>Status (Desc.)</th>\n",
              "      <th>Status (A/I)</th>\n",
              "      <th>Solvente</th>\n",
              "      <th>Tipo de Catálise</th>\n",
              "      <th>Catalisador</th>\n",
              "      <th>Tipo de Catalisador</th>\n",
              "      <th>Tipo de Reator</th>\n",
              "      <th>Volume do Reator</th>\n",
              "      <th>Temperatura</th>\n",
              "      <th>Temperatura Min (C)</th>\n",
              "      <th>Temperatura Med (C)</th>\n",
              "      <th>Temperatura Max (C)</th>\n",
              "      <th>Pressão</th>\n",
              "      <th>Pressão Min (bar)</th>\n",
              "      <th>Presso Med (bar)</th>\n",
              "      <th>Pressão Max (bar)</th>\n",
              "      <th>Rendimento</th>\n",
              "      <th>Rendimento (%)</th>\n",
              "      <th>Seletividade</th>\n",
              "      <th>Seletividade (%)</th>\n",
              "      <th>Regime (Bat./Cont.)</th>\n",
              "      <th>Regime</th>\n",
              "      <th>Tempo de Batelada/Residência</th>\n",
              "      <th>Quantidade SA</th>\n",
              "      <th>MP</th>\n",
              "      <th>Novo MP</th>\n",
              "      <th>acido/ester</th>\n",
              "      <th>Fonte SA (Bio/Petro)</th>\n",
              "      <th>Empresa (Simplificado)</th>\n",
              "      <th>País de Aplicação</th>\n",
              "      <th>Observações/Comentários</th>\n",
              "      <th>Exemplo</th>\n",
              "    </tr>\n",
              "  </thead>\n",
              "  <tbody>\n",
              "    <tr>\n",
              "      <th>17</th>\n",
              "      <td>JP2001157841-A;  JP4472109-B2</td>\n",
              "      <td>Catalyst for carboxylic acid hydrogenation and...</td>\n",
              "      <td>KONISHI M;  UENO E</td>\n",
              "      <td>ASAHI KASEI KK (ASAH-C);  ASAHI KASEI KK (ASAH-C)</td>\n",
              "      <td>2001</td>\n",
              "      <td>JP2001157841-A    JP130777    28 Apr 2000;   J...</td>\n",
              "      <td>Expired - Fee related</td>\n",
              "      <td>Inactive</td>\n",
              "      <td>Water</td>\n",
              "      <td>NaN</td>\n",
              "      <td>Ru-Sn/C</td>\n",
              "      <td>Ru-Sn</td>\n",
              "      <td>Autoclave</td>\n",
              "      <td>50mL</td>\n",
              "      <td>180C</td>\n",
              "      <td>NaN</td>\n",
              "      <td>180.0</td>\n",
              "      <td>NaN</td>\n",
              "      <td>150bar</td>\n",
              "      <td>NaN</td>\n",
              "      <td>150.0</td>\n",
              "      <td>NaN</td>\n",
              "      <td>0.88</td>\n",
              "      <td>0.88</td>\n",
              "      <td>NaN</td>\n",
              "      <td>NaN</td>\n",
              "      <td>Batelada</td>\n",
              "      <td>Batelada</td>\n",
              "      <td>6h</td>\n",
              "      <td>2.1g</td>\n",
              "      <td>SA</td>\n",
              "      <td>SA</td>\n",
              "      <td>Ácido</td>\n",
              "      <td>NaN</td>\n",
              "      <td>ASAHI KASEI</td>\n",
              "      <td>Japan</td>\n",
              "      <td>Patente de catalisador, hidrogenação de bancad...</td>\n",
              "      <td>NaN</td>\n",
              "    </tr>\n",
              "    <tr>\n",
              "      <th>18</th>\n",
              "      <td>WO200121306-A1;  JP2001157840-A;  AU200073189-...</td>\n",
              "      <td>Catalyst for carboxylic acid hydrogenation to ...</td>\n",
              "      <td>KONISHI M;  UENO E</td>\n",
              "      <td>ASAHI KASEI KOGYO KK (ASAH-C);  ASAHI KASEI KK...</td>\n",
              "      <td>2001</td>\n",
              "      <td>WO200121306-A1    WOJP06473    21 Sep 2000;   ...</td>\n",
              "      <td>NaN</td>\n",
              "      <td>Inactive</td>\n",
              "      <td>NaN</td>\n",
              "      <td>NaN</td>\n",
              "      <td>Ru-Sn/C</td>\n",
              "      <td>Ru-Sn</td>\n",
              "      <td>Autoclave</td>\n",
              "      <td>30mL</td>\n",
              "      <td>180C</td>\n",
              "      <td>NaN</td>\n",
              "      <td>180.0</td>\n",
              "      <td>NaN</td>\n",
              "      <td>150bar</td>\n",
              "      <td>NaN</td>\n",
              "      <td>150.0</td>\n",
              "      <td>NaN</td>\n",
              "      <td>0.43</td>\n",
              "      <td>0.43</td>\n",
              "      <td>NaN</td>\n",
              "      <td>NaN</td>\n",
              "      <td>Batelada</td>\n",
              "      <td>Batelada</td>\n",
              "      <td>10h</td>\n",
              "      <td>2.1g</td>\n",
              "      <td>SA</td>\n",
              "      <td>SA</td>\n",
              "      <td>Ácido</td>\n",
              "      <td>NaN</td>\n",
              "      <td>ASAHI KASEI</td>\n",
              "      <td>Japan</td>\n",
              "      <td>Conjunto da patente 80.</td>\n",
              "      <td>NaN</td>\n",
              "    </tr>\n",
              "    <tr>\n",
              "      <th>20</th>\n",
              "      <td>JP2001002604-A;  JP4282831-B2</td>\n",
              "      <td>Preparation of diols in high yield involves re...</td>\n",
              "      <td>KONISHI M;  UENO E</td>\n",
              "      <td>ASAHI KASEI KOGYO KK (ASAH-C);  ASAHI KASEI KK...</td>\n",
              "      <td>2001</td>\n",
              "      <td>JP2001002604-A    JP170736    17 Jun 1999;   J...</td>\n",
              "      <td>Expired - Fee Related</td>\n",
              "      <td>Inactive</td>\n",
              "      <td>Water</td>\n",
              "      <td>NaN</td>\n",
              "      <td>Ru-Sn-Pt; Ru-Sn-Re</td>\n",
              "      <td>Pt-Ru-Sn; Re-Ru-Sn</td>\n",
              "      <td>Autoclave CSTR</td>\n",
              "      <td>100mL</td>\n",
              "      <td>180C</td>\n",
              "      <td>NaN</td>\n",
              "      <td>180.0</td>\n",
              "      <td>NaN</td>\n",
              "      <td>150bar</td>\n",
              "      <td>NaN</td>\n",
              "      <td>150.0</td>\n",
              "      <td>NaN</td>\n",
              "      <td>0.75</td>\n",
              "      <td>0.75</td>\n",
              "      <td>NaN</td>\n",
              "      <td>NaN</td>\n",
              "      <td>Batelada</td>\n",
              "      <td>Batelada</td>\n",
              "      <td>18h</td>\n",
              "      <td>1.15g</td>\n",
              "      <td>Acidos Suc., Glu. e Adip.</td>\n",
              "      <td>NaN</td>\n",
              "      <td>Ácido</td>\n",
              "      <td>NaN</td>\n",
              "      <td>ASAHI KASEI</td>\n",
              "      <td>Japan</td>\n",
              "      <td>Alimentam 3 ácidos (succinico 23%weight, gluta...</td>\n",
              "      <td>NaN</td>\n",
              "    </tr>\n",
              "  </tbody>\n",
              "</table>\n",
              "</div>"
            ],
            "text/plain": [
              "                                        Patent Number  ... Exemplo\n",
              "17                      JP2001157841-A;  JP4472109-B2  ...     NaN\n",
              "18  WO200121306-A1;  JP2001157840-A;  AU200073189-...  ...     NaN\n",
              "20                      JP2001002604-A;  JP4282831-B2  ...     NaN\n",
              "\n",
              "[3 rows x 38 columns]"
            ]
          },
          "metadata": {},
          "execution_count": 48
        }
      ]
    },
    {
      "cell_type": "code",
      "metadata": {
        "id": "qKdk8Ov7OwIz",
        "colab": {
          "base_uri": "https://localhost:8080/",
          "height": 493
        },
        "outputId": "3121d340-eaee-44ef-de66-f9d63c219ffe"
      },
      "source": [
        "dupont = df[df['Empresa (Simplificado)'] == 'DuPont']\n",
        "dupont"
      ],
      "execution_count": null,
      "outputs": [
        {
          "output_type": "execute_result",
          "data": {
            "text/html": [
              "<div>\n",
              "<style scoped>\n",
              "    .dataframe tbody tr th:only-of-type {\n",
              "        vertical-align: middle;\n",
              "    }\n",
              "\n",
              "    .dataframe tbody tr th {\n",
              "        vertical-align: top;\n",
              "    }\n",
              "\n",
              "    .dataframe thead th {\n",
              "        text-align: right;\n",
              "    }\n",
              "</style>\n",
              "<table border=\"1\" class=\"dataframe\">\n",
              "  <thead>\n",
              "    <tr style=\"text-align: right;\">\n",
              "      <th></th>\n",
              "      <th>Patent Number</th>\n",
              "      <th>Patent Title/INPI Reaction</th>\n",
              "      <th>Authors/Inventors</th>\n",
              "      <th>Empresa</th>\n",
              "      <th>Ano</th>\n",
              "      <th>Aplicacoes</th>\n",
              "      <th>Status (Desc.)</th>\n",
              "      <th>Status (A/I)</th>\n",
              "      <th>Solvente</th>\n",
              "      <th>Tipo de Catálise</th>\n",
              "      <th>Catalisador</th>\n",
              "      <th>Tipo de Catalisador</th>\n",
              "      <th>Tipo de Reator</th>\n",
              "      <th>Volume do Reator</th>\n",
              "      <th>Temperatura</th>\n",
              "      <th>Temperatura Min (C)</th>\n",
              "      <th>Temperatura Med (C)</th>\n",
              "      <th>Temperatura Max (C)</th>\n",
              "      <th>Pressão</th>\n",
              "      <th>Pressão Min (bar)</th>\n",
              "      <th>Presso Med (bar)</th>\n",
              "      <th>Pressão Max (bar)</th>\n",
              "      <th>Rendimento</th>\n",
              "      <th>Rendimento (%)</th>\n",
              "      <th>Seletividade</th>\n",
              "      <th>Seletividade (%)</th>\n",
              "      <th>Regime (Bat./Cont.)</th>\n",
              "      <th>Regime</th>\n",
              "      <th>Tempo de Batelada/Residência</th>\n",
              "      <th>Quantidade SA</th>\n",
              "      <th>MP</th>\n",
              "      <th>Novo MP</th>\n",
              "      <th>acido/ester</th>\n",
              "      <th>Fonte SA (Bio/Petro)</th>\n",
              "      <th>Empresa (Simplificado)</th>\n",
              "      <th>País de Aplicação</th>\n",
              "      <th>Observações/Comentários</th>\n",
              "      <th>Exemplo</th>\n",
              "    </tr>\n",
              "  </thead>\n",
              "  <tbody>\n",
              "    <tr>\n",
              "      <th>21</th>\n",
              "      <td>US6008384-A</td>\n",
              "      <td>Catalytic hydrogenation of maleic acid and oth...</td>\n",
              "      <td>SCHWARTZ J T;  STIMEK R T;  BOCKRATH R E;  CAM...</td>\n",
              "      <td>DU PONT DE NEMOURS &amp; CO E I (DUPO-C)</td>\n",
              "      <td>2000</td>\n",
              "      <td>US6008384-A    US033992    03 Mar 1998</td>\n",
              "      <td>Expired - Lifetime</td>\n",
              "      <td>Inactive</td>\n",
              "      <td>Water</td>\n",
              "      <td>NaN</td>\n",
              "      <td>Ru-Re-Sn/C</td>\n",
              "      <td>Re-Ru-Sn</td>\n",
              "      <td>Fixed Bed; Slurry reactor</td>\n",
              "      <td>NaN</td>\n",
              "      <td>175C</td>\n",
              "      <td>NaN</td>\n",
              "      <td>175.0</td>\n",
              "      <td>NaN</td>\n",
              "      <td>206bar</td>\n",
              "      <td>NaN</td>\n",
              "      <td>206.0</td>\n",
              "      <td>NaN</td>\n",
              "      <td>0.95</td>\n",
              "      <td>0.95</td>\n",
              "      <td>0.678</td>\n",
              "      <td>0.68</td>\n",
              "      <td>Ambos</td>\n",
              "      <td>Batelada ou Contínuo</td>\n",
              "      <td>NaN</td>\n",
              "      <td>NaN</td>\n",
              "      <td>SA</td>\n",
              "      <td>SA</td>\n",
              "      <td>Ácido</td>\n",
              "      <td>NaN</td>\n",
              "      <td>DuPont</td>\n",
              "      <td>US</td>\n",
              "      <td>\"Water and SA may be considered as inhibitors ...</td>\n",
              "      <td>\"The method of using the highly dispersed, red...</td>\n",
              "    </tr>\n",
              "    <tr>\n",
              "      <th>29</th>\n",
              "      <td>US5478952-A;  WO9627436-A1;  AU9644681-A;  EP8...</td>\n",
              "      <td>Hydrogenation catalyst contg. ruthenium and rh...</td>\n",
              "      <td>SCHWARTZ J T;  SCHWARTZ J;  LEBIGRE J T</td>\n",
              "      <td>DU PONT DE NEMOURS &amp; CO E I (DUPO-C);  DU PONT...</td>\n",
              "      <td>1996</td>\n",
              "      <td>US5478952-A    US398638    03 Mar 1995;   WO96...</td>\n",
              "      <td>NaN</td>\n",
              "      <td>NaN</td>\n",
              "      <td>NaN</td>\n",
              "      <td>NaN</td>\n",
              "      <td>Ru-Re/C</td>\n",
              "      <td>Re-Ru</td>\n",
              "      <td>NaN</td>\n",
              "      <td>125mL</td>\n",
              "      <td>250C</td>\n",
              "      <td>NaN</td>\n",
              "      <td>250.0</td>\n",
              "      <td>NaN</td>\n",
              "      <td>NaN</td>\n",
              "      <td>NaN</td>\n",
              "      <td>NaN</td>\n",
              "      <td>NaN</td>\n",
              "      <td>NaN</td>\n",
              "      <td>NaN</td>\n",
              "      <td>NaN</td>\n",
              "      <td>NaN</td>\n",
              "      <td>Batelada</td>\n",
              "      <td>Batelada</td>\n",
              "      <td>4h</td>\n",
              "      <td>0.07</td>\n",
              "      <td>SA</td>\n",
              "      <td>SA</td>\n",
              "      <td>Ácido</td>\n",
              "      <td>NaN</td>\n",
              "      <td>DuPont</td>\n",
              "      <td>US</td>\n",
              "      <td>NaN</td>\n",
              "      <td>NaN</td>\n",
              "    </tr>\n",
              "    <tr>\n",
              "      <th>37</th>\n",
              "      <td>EP147219-A;  NO8405196-A;  BR8406586-A;  US455...</td>\n",
              "      <td>Palladium rhenium on carbon catalyst - in tetr...</td>\n",
              "      <td>MABRY M A;  PRICHARD W W;  ZIENMECKI S B;  ZIE...</td>\n",
              "      <td>DU PONT DE NEMOURS &amp; CO E I (DUPO-C);  DU PONT...</td>\n",
              "      <td>1985</td>\n",
              "      <td>EP147219-A    EP309048    21 Dec 1984;   US455...</td>\n",
              "      <td>Expired - Lifetime</td>\n",
              "      <td>Inactive</td>\n",
              "      <td>NaN</td>\n",
              "      <td>Fase Líquida</td>\n",
              "      <td>Pd-Re/C</td>\n",
              "      <td>Pd-Re</td>\n",
              "      <td>CSTR; Fixed Bed</td>\n",
              "      <td>NaN</td>\n",
              "      <td>175-225C</td>\n",
              "      <td>175.0</td>\n",
              "      <td>200.0</td>\n",
              "      <td>225.0</td>\n",
              "      <td>170bar</td>\n",
              "      <td>NaN</td>\n",
              "      <td>170.0</td>\n",
              "      <td>NaN</td>\n",
              "      <td>0.79</td>\n",
              "      <td>0.79</td>\n",
              "      <td>NaN</td>\n",
              "      <td>NaN</td>\n",
              "      <td>Contínuo</td>\n",
              "      <td>Contínuo</td>\n",
              "      <td>NaN</td>\n",
              "      <td>30-40%</td>\n",
              "      <td>Acido Maleico</td>\n",
              "      <td>NaN</td>\n",
              "      <td>Ácido</td>\n",
              "      <td>NaN</td>\n",
              "      <td>DuPont</td>\n",
              "      <td>US</td>\n",
              "      <td>Dados de quantidade são de acido maleico. Exem...</td>\n",
              "      <td>NaN</td>\n",
              "    </tr>\n",
              "  </tbody>\n",
              "</table>\n",
              "</div>"
            ],
            "text/plain": [
              "                                        Patent Number  ...                                            Exemplo\n",
              "21                                        US6008384-A  ...  \"The method of using the highly dispersed, red...\n",
              "29  US5478952-A;  WO9627436-A1;  AU9644681-A;  EP8...  ...                                                NaN\n",
              "37  EP147219-A;  NO8405196-A;  BR8406586-A;  US455...  ...                                                NaN\n",
              "\n",
              "[3 rows x 38 columns]"
            ]
          },
          "metadata": {},
          "execution_count": 49
        }
      ]
    },
    {
      "cell_type": "code",
      "metadata": {
        "id": "cotciGNURP5U"
      },
      "source": [
        "df2 = pd.read_excel('graficos_BDO_format.xlsx', sheet_name='patentes_sim', index_col=None)"
      ],
      "execution_count": null,
      "outputs": []
    },
    {
      "cell_type": "code",
      "metadata": {
        "id": "fUTl2oVxltZL"
      },
      "source": [
        "por_catalisador_df2 = df2.groupby('Tipo de Catalisador')\n",
        "por_catalisador_medias_df2 = por_catalisador_df2.mean()\n",
        "#por_catalisador_medias_df2.to_excel('por_catalisador_medias_patentes_rendsel.xlsx')"
      ],
      "execution_count": null,
      "outputs": []
    },
    {
      "cell_type": "code",
      "metadata": {
        "id": "CEdS_qHO2fNc"
      },
      "source": [
        "por_empresa_df2 = df2.groupby('Empresa (Simplificado)')\n",
        "por_empresa_medias_df2 = por_empresa_df2.mean()\n",
        "#por_empresa_medias_df2.to_excel('por_empresa_medias_patentes_rendsel.xlsx')"
      ],
      "execution_count": null,
      "outputs": []
    },
    {
      "cell_type": "code",
      "metadata": {
        "id": "CFqTBcQL6CB_"
      },
      "source": [],
      "execution_count": null,
      "outputs": []
    }
  ]
}