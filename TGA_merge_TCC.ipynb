{
  "nbformat": 4,
  "nbformat_minor": 0,
  "metadata": {
    "colab": {
      "provenance": [],
      "authorship_tag": "ABX9TyPfdJOLOwdE7M7rwlgXWArJ",
      "include_colab_link": true
    },
    "kernelspec": {
      "name": "python3",
      "display_name": "Python 3"
    },
    "language_info": {
      "name": "python"
    }
  },
  "cells": [
    {
      "cell_type": "markdown",
      "metadata": {
        "id": "view-in-github",
        "colab_type": "text"
      },
      "source": [
        "<a href=\"https://colab.research.google.com/github/gusmaomarcos/EngQuimica/blob/main/TGA_merge_TCC.ipynb\" target=\"_parent\"><img src=\"https://colab.research.google.com/assets/colab-badge.svg\" alt=\"Open In Colab\"/></a>"
      ]
    },
    {
      "cell_type": "code",
      "execution_count": null,
      "metadata": {
        "id": "2H9TQu8jEW8f"
      },
      "outputs": [],
      "source": [
        "import pandas as pd\n",
        "\n",
        "df1 = pd.read_excel('rm1_2.xlsx', sheet_name='dados')\n",
        "\n",
        "df2 = pd.read_excel('rm2_2.xlsx', sheet_name='dados')\n",
        "\n",
        "merged_outer = pd.merge(df1, df2, on='Temperature (°C)', how='outer')\n",
        "\n",
        "output_file_path = 'merged_temp.xlsx'\n",
        "merged_outer.to_excel(output_file_path, index=False)"
      ]
    },
    {
      "cell_type": "code",
      "source": [],
      "metadata": {
        "id": "gPgTF3PwEcJi"
      },
      "execution_count": null,
      "outputs": []
    }
  ]
}