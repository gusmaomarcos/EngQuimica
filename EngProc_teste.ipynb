{
  "nbformat": 4,
  "nbformat_minor": 0,
  "metadata": {
    "colab": {
      "provenance": [],
      "include_colab_link": true
    },
    "kernelspec": {
      "name": "python3",
      "display_name": "Python 3"
    },
    "language_info": {
      "name": "python"
    }
  },
  "cells": [
    {
      "cell_type": "markdown",
      "metadata": {
        "id": "view-in-github",
        "colab_type": "text"
      },
      "source": [
        "<a href=\"https://colab.research.google.com/github/gusmaomarcos/EngQuimica/blob/main/EngProc_teste.ipynb\" target=\"_parent\"><img src=\"https://colab.research.google.com/assets/colab-badge.svg\" alt=\"Open In Colab\"/></a>"
      ]
    },
    {
      "cell_type": "code",
      "execution_count": null,
      "metadata": {
        "id": "7pzAx-QOkMxe"
      },
      "outputs": [],
      "source": [
        "import numpy as np\n",
        "import pandas as pd"
      ]
    },
    {
      "cell_type": "code",
      "source": [
        "#df = pd.read_excel('fonte.xlsx', index_col=0)\n",
        "df = pd.read_excel('fonte.xlsx')\n",
        "df.shape"
      ],
      "metadata": {
        "id": "wph4tWvTkY4E",
        "colab": {
          "base_uri": "https://localhost:8080/"
        },
        "outputId": "2682aecc-1440-4ffd-d293-ef7ff96c8187"
      },
      "execution_count": null,
      "outputs": [
        {
          "output_type": "execute_result",
          "data": {
            "text/plain": [
              "(8, 3)"
            ]
          },
          "metadata": {},
          "execution_count": 12
        }
      ]
    },
    {
      "cell_type": "code",
      "source": [
        "'''def papoulias_grossman(p=1, df=df):\n",
        "  c = len(df.index.unique())\n",
        "  n = (np.math.factorial(2*(c-1))/((np.math.factorial(c-1))*(np.math.factorial(c))))*p**(c-1)\n",
        "  return n\n",
        "\n",
        "def regra_separacao(df):\n",
        "\n",
        "  R = df['Vol. Rel. Adj.'].min()/df['Vol. Rel. Adj.'].max()\n",
        "  Q = df['Vazao'].min()/df['Vazao'].max()\n",
        "\n",
        "  v1a = min([(1-Q), R])\n",
        "  v1b = min([Q, R])\n",
        "  v2 = min([Q, (1-R)])\n",
        "\n",
        "  if max([v1a, v1b, v2]) == v1a:\n",
        "    return 'v1a'\n",
        "  if max([v1a, v1b, v2]) == v1b:\n",
        "    return 'v1b'\n",
        "  if max([v1a, v1b, v2]) == v1a:\n",
        "    return 'v2'\n",
        "\n",
        "def regra_v1a(df):\n",
        "  posicao = df['Vazao'].argmax()\n",
        "  df1, df2 = np.vsplit(df, posicao)\n",
        "  return df1, df2\n",
        "\n",
        "def regra_v1b(df):\n",
        "  df1, df2 = np.split(df, 2)\n",
        "  return df1, df2\n",
        "\n",
        "def regra_v2(df):\n",
        "  df1, df2 = np.split(df, 2)\n",
        "  #efetuar o corte mais facil\n",
        "  return df1, df2'''"
      ],
      "metadata": {
        "id": "khRsgT9Jsh_i"
      },
      "execution_count": null,
      "outputs": []
    },
    {
      "cell_type": "code",
      "source": [
        "def papoulias_grossman(p=1, df=df):\n",
        "  c = len(df.index.unique())\n",
        "  n = (np.math.factorial(2*(c-1))/((np.math.factorial(c-1))*(np.math.factorial(c))))*p**(c-1)\n",
        "  return n\n",
        "\n",
        "def regra_v1a(df):\n",
        "  posicao = df['Vazao'].argmax()\n",
        "  df1, df2 = np.vsplit(df, posicao)\n",
        "  return df1, df2\n",
        "\n",
        "def regra_v1b(df):\n",
        "  posicao = df['Vol. Rel. Adj.'].argmax()\n",
        "  df1, df2 = np.vsplit(df, posicao)\n",
        "  return df1, df2\n",
        "\n",
        "#def regra_v2(df):\n",
        "  #df1, df2 = np.split(df, 2)\n",
        "  #efetuar o corte mais facil\n",
        "  #return df1, df2\n",
        "\n",
        "def regra_separacao(df):\n",
        "\n",
        "  dfs = [df]\n",
        "\n",
        "  for i in dfs:\n",
        "\n",
        "    R = i['Vol. Rel. Adj.'].min()/i['Vol. Rel. Adj.'].max()\n",
        "    Q = i['Vazao'].min()/i['Vazao'].max()\n",
        "\n",
        "    v1a = min([(1-Q), R])\n",
        "    v1b = min([Q, R])\n",
        "    v2 = min([Q, (1-R)])\n",
        "\n",
        "    if max([v1a, v1b, v2]) == v1a:\n",
        "      dfs.append(regra_v1a(i))\n",
        "      dfs.print(i)\n",
        "      dfs.remove(i)\n",
        "    if max([v1a, v1b, v2]) == v1b:\n",
        "      dfs.append(regra_v1b(i))\n",
        "      dfs.print(i)\n",
        "      dfs.remove(i)\n",
        "    #if max([v1a, v1b, v2]) == v1a:\n",
        "      #return 'v2'"
      ],
      "metadata": {
        "id": "R35w8X0QjgeJ"
      },
      "execution_count": null,
      "outputs": []
    },
    {
      "cell_type": "code",
      "source": [
        "def papoulias_grossman(p=1, df=df):\n",
        "  c = len(df.index.unique())\n",
        "  n = (np.math.factorial(2*(c-1))/((np.math.factorial(c-1))*(np.math.factorial(c))))*p**(c-1)\n",
        "  return n\n",
        "\n",
        "def regra_v1a(df):\n",
        "  posicao = df['Vazao'].argmax()\n",
        "  df1, df2 = np.vsplit(df, posicao)\n",
        "  return df1, df2\n",
        "\n",
        "def regra_v1b(df):\n",
        "  posicao = df['Vol. Rel. Adj.'].argmax()\n",
        "  df1, df2 = np.vsplit(df, posicao)\n",
        "  return df1, df2\n",
        "\n",
        "#def regra_v2(df):\n",
        "  #df1, df2 = np.split(df, 2)\n",
        "  #efetuar o corte mais facil\n",
        "  #return df1, df2\n",
        "\n",
        "def regra_separacao(df):\n",
        "\n",
        "  dfs = [df]\n",
        "\n",
        "  for i in dfs:\n",
        "    if i.shape[0] > 2:\n",
        "\n",
        "      R = i['Vol. Rel. Adj.'].min()/i['Vol. Rel. Adj.'].max()\n",
        "      Q = i['Vazao'].min()/i['Vazao'].max()\n",
        "\n",
        "      v1a = min([(1-Q), R])\n",
        "      v1b = min([Q, R])\n",
        "      v2 = min([Q, (1-R)])\n",
        "\n",
        "      if max([v1a, v1b, v2]) == v1a:\n",
        "        dfs.append(regra_v1a(i)[0])\n",
        "        dfs.append(regra_v1a(i)[1])\n",
        "        dfs.print(i)\n",
        "        dfs.remove(i)\n",
        "      if max([v1a, v1b, v2]) == v1b:\n",
        "        dfs.append(regra_v1b(i)[0])\n",
        "        dfs.append(regra_v1b(i)[1])\n",
        "        dfs.print(i)\n",
        "        dfs.remove(i)\n",
        "      #if max([v1a, v1b, v2]) == v1a:\n",
        "        #return 'v2'\n",
        "      else:\n",
        "        break\n",
        "    else:\n",
        "      print(\"Alguma coisa\")"
      ],
      "metadata": {
        "id": "igY2z1f_ReXX"
      },
      "execution_count": null,
      "outputs": []
    },
    {
      "cell_type": "code",
      "source": [
        "regra_separacao(df)"
      ],
      "metadata": {
        "colab": {
          "base_uri": "https://localhost:8080/",
          "height": 745
        },
        "id": "4eUJeN5cSf5t",
        "outputId": "ab58dced-731c-4a87-9695-fadb4015ec7c"
      },
      "execution_count": null,
      "outputs": [
        {
          "output_type": "error",
          "ename": "ValueError",
          "evalue": "ignored",
          "traceback": [
            "\u001b[0;31m---------------------------------------------------------------------------\u001b[0m",
            "\u001b[0;31mValueError\u001b[0m                                Traceback (most recent call last)",
            "\u001b[0;32m<ipython-input-16-c0f89cbc4bd6>\u001b[0m in \u001b[0;36m<module>\u001b[0;34m()\u001b[0m\n\u001b[0;32m----> 1\u001b[0;31m \u001b[0mregra_separacao\u001b[0m\u001b[0;34m(\u001b[0m\u001b[0mdf\u001b[0m\u001b[0;34m)\u001b[0m\u001b[0;34m\u001b[0m\u001b[0;34m\u001b[0m\u001b[0m\n\u001b[0m",
            "\u001b[0;32m<ipython-input-15-a4830b90b9cc>\u001b[0m in \u001b[0;36mregra_separacao\u001b[0;34m(df)\u001b[0m\n\u001b[1;32m     34\u001b[0m \u001b[0;34m\u001b[0m\u001b[0m\n\u001b[1;32m     35\u001b[0m       \u001b[0;32mif\u001b[0m \u001b[0mmax\u001b[0m\u001b[0;34m(\u001b[0m\u001b[0;34m[\u001b[0m\u001b[0mv1a\u001b[0m\u001b[0;34m,\u001b[0m \u001b[0mv1b\u001b[0m\u001b[0;34m,\u001b[0m \u001b[0mv2\u001b[0m\u001b[0;34m]\u001b[0m\u001b[0;34m)\u001b[0m \u001b[0;34m==\u001b[0m \u001b[0mv1a\u001b[0m\u001b[0;34m:\u001b[0m\u001b[0;34m\u001b[0m\u001b[0;34m\u001b[0m\u001b[0m\n\u001b[0;32m---> 36\u001b[0;31m         \u001b[0mdfs\u001b[0m\u001b[0;34m.\u001b[0m\u001b[0mappend\u001b[0m\u001b[0;34m(\u001b[0m\u001b[0mregra_v1a\u001b[0m\u001b[0;34m(\u001b[0m\u001b[0mi\u001b[0m\u001b[0;34m)\u001b[0m\u001b[0;34m[\u001b[0m\u001b[0;36m0\u001b[0m\u001b[0;34m]\u001b[0m\u001b[0;34m)\u001b[0m\u001b[0;34m\u001b[0m\u001b[0;34m\u001b[0m\u001b[0m\n\u001b[0m\u001b[1;32m     37\u001b[0m         \u001b[0mdfs\u001b[0m\u001b[0;34m.\u001b[0m\u001b[0mappend\u001b[0m\u001b[0;34m(\u001b[0m\u001b[0mregra_v1a\u001b[0m\u001b[0;34m(\u001b[0m\u001b[0mi\u001b[0m\u001b[0;34m)\u001b[0m\u001b[0;34m[\u001b[0m\u001b[0;36m1\u001b[0m\u001b[0;34m]\u001b[0m\u001b[0;34m)\u001b[0m\u001b[0;34m\u001b[0m\u001b[0;34m\u001b[0m\u001b[0m\n\u001b[1;32m     38\u001b[0m         \u001b[0mdfs\u001b[0m\u001b[0;34m.\u001b[0m\u001b[0mprint\u001b[0m\u001b[0;34m(\u001b[0m\u001b[0mi\u001b[0m\u001b[0;34m)\u001b[0m\u001b[0;34m\u001b[0m\u001b[0;34m\u001b[0m\u001b[0m\n",
            "\u001b[0;32m<ipython-input-15-a4830b90b9cc>\u001b[0m in \u001b[0;36mregra_v1a\u001b[0;34m(df)\u001b[0m\n\u001b[1;32m      6\u001b[0m \u001b[0;32mdef\u001b[0m \u001b[0mregra_v1a\u001b[0m\u001b[0;34m(\u001b[0m\u001b[0mdf\u001b[0m\u001b[0;34m)\u001b[0m\u001b[0;34m:\u001b[0m\u001b[0;34m\u001b[0m\u001b[0;34m\u001b[0m\u001b[0m\n\u001b[1;32m      7\u001b[0m   \u001b[0mposicao\u001b[0m \u001b[0;34m=\u001b[0m \u001b[0mdf\u001b[0m\u001b[0;34m[\u001b[0m\u001b[0;34m'Vazao'\u001b[0m\u001b[0;34m]\u001b[0m\u001b[0;34m.\u001b[0m\u001b[0margmax\u001b[0m\u001b[0;34m(\u001b[0m\u001b[0;34m)\u001b[0m\u001b[0;34m\u001b[0m\u001b[0;34m\u001b[0m\u001b[0m\n\u001b[0;32m----> 8\u001b[0;31m   \u001b[0mdf1\u001b[0m\u001b[0;34m,\u001b[0m \u001b[0mdf2\u001b[0m \u001b[0;34m=\u001b[0m \u001b[0mnp\u001b[0m\u001b[0;34m.\u001b[0m\u001b[0mvsplit\u001b[0m\u001b[0;34m(\u001b[0m\u001b[0mdf\u001b[0m\u001b[0;34m,\u001b[0m \u001b[0mposicao\u001b[0m\u001b[0;34m)\u001b[0m\u001b[0;34m\u001b[0m\u001b[0;34m\u001b[0m\u001b[0m\n\u001b[0m\u001b[1;32m      9\u001b[0m   \u001b[0;32mreturn\u001b[0m \u001b[0mdf1\u001b[0m\u001b[0;34m,\u001b[0m \u001b[0mdf2\u001b[0m\u001b[0;34m\u001b[0m\u001b[0;34m\u001b[0m\u001b[0m\n\u001b[1;32m     10\u001b[0m \u001b[0;34m\u001b[0m\u001b[0m\n",
            "\u001b[0;32m<__array_function__ internals>\u001b[0m in \u001b[0;36mvsplit\u001b[0;34m(*args, **kwargs)\u001b[0m\n",
            "\u001b[0;32m/usr/local/lib/python3.7/dist-packages/numpy/lib/shape_base.py\u001b[0m in \u001b[0;36mvsplit\u001b[0;34m(ary, indices_or_sections)\u001b[0m\n\u001b[1;32m    989\u001b[0m     \u001b[0;32mif\u001b[0m \u001b[0m_nx\u001b[0m\u001b[0;34m.\u001b[0m\u001b[0mndim\u001b[0m\u001b[0;34m(\u001b[0m\u001b[0mary\u001b[0m\u001b[0;34m)\u001b[0m \u001b[0;34m<\u001b[0m \u001b[0;36m2\u001b[0m\u001b[0;34m:\u001b[0m\u001b[0;34m\u001b[0m\u001b[0;34m\u001b[0m\u001b[0m\n\u001b[1;32m    990\u001b[0m         \u001b[0;32mraise\u001b[0m \u001b[0mValueError\u001b[0m\u001b[0;34m(\u001b[0m\u001b[0;34m'vsplit only works on arrays of 2 or more dimensions'\u001b[0m\u001b[0;34m)\u001b[0m\u001b[0;34m\u001b[0m\u001b[0;34m\u001b[0m\u001b[0m\n\u001b[0;32m--> 991\u001b[0;31m     \u001b[0;32mreturn\u001b[0m \u001b[0msplit\u001b[0m\u001b[0;34m(\u001b[0m\u001b[0mary\u001b[0m\u001b[0;34m,\u001b[0m \u001b[0mindices_or_sections\u001b[0m\u001b[0;34m,\u001b[0m \u001b[0;36m0\u001b[0m\u001b[0;34m)\u001b[0m\u001b[0;34m\u001b[0m\u001b[0;34m\u001b[0m\u001b[0m\n\u001b[0m\u001b[1;32m    992\u001b[0m \u001b[0;34m\u001b[0m\u001b[0m\n\u001b[1;32m    993\u001b[0m \u001b[0;34m\u001b[0m\u001b[0m\n",
            "\u001b[0;32m<__array_function__ internals>\u001b[0m in \u001b[0;36msplit\u001b[0;34m(*args, **kwargs)\u001b[0m\n",
            "\u001b[0;32m/usr/local/lib/python3.7/dist-packages/numpy/lib/shape_base.py\u001b[0m in \u001b[0;36msplit\u001b[0;34m(ary, indices_or_sections, axis)\u001b[0m\n\u001b[1;32m    871\u001b[0m         \u001b[0;32mif\u001b[0m \u001b[0mN\u001b[0m \u001b[0;34m%\u001b[0m \u001b[0msections\u001b[0m\u001b[0;34m:\u001b[0m\u001b[0;34m\u001b[0m\u001b[0;34m\u001b[0m\u001b[0m\n\u001b[1;32m    872\u001b[0m             raise ValueError(\n\u001b[0;32m--> 873\u001b[0;31m                 'array split does not result in an equal division') from None\n\u001b[0m\u001b[1;32m    874\u001b[0m     \u001b[0;32mreturn\u001b[0m \u001b[0marray_split\u001b[0m\u001b[0;34m(\u001b[0m\u001b[0mary\u001b[0m\u001b[0;34m,\u001b[0m \u001b[0mindices_or_sections\u001b[0m\u001b[0;34m,\u001b[0m \u001b[0maxis\u001b[0m\u001b[0;34m)\u001b[0m\u001b[0;34m\u001b[0m\u001b[0;34m\u001b[0m\u001b[0m\n\u001b[1;32m    875\u001b[0m \u001b[0;34m\u001b[0m\u001b[0m\n",
            "\u001b[0;31mValueError\u001b[0m: array split does not result in an equal division"
          ]
        }
      ]
    },
    {
      "cell_type": "code",
      "source": [],
      "metadata": {
        "id": "jgUhwoeMSi-3"
      },
      "execution_count": null,
      "outputs": []
    }
  ]
}